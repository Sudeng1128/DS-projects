{
 "cells": [
  {
   "cell_type": "code",
   "execution_count": 29,
   "metadata": {},
   "outputs": [],
   "source": [
    "import numpy as np\n",
    "import matplotlib.pyplot as plt\n",
    "import pandas as pd"
   ]
  },
  {
   "cell_type": "code",
   "execution_count": 30,
   "metadata": {},
   "outputs": [],
   "source": [
    "dataset = pd.read_csv('Churn_Modelling.csv')\n",
    "X = dataset.iloc[:, 3:13].values\n",
    "y = dataset.iloc[:, 13].values"
   ]
  },
  {
   "cell_type": "code",
   "execution_count": 31,
   "metadata": {},
   "outputs": [],
   "source": [
    "from sklearn.preprocessing import OneHotEncoder, LabelEncoder"
   ]
  },
  {
   "cell_type": "code",
   "execution_count": 32,
   "metadata": {},
   "outputs": [],
   "source": [
    "labelencoder_X_1 = LabelEncoder()\n",
    "X[:, 1] = labelencoder_X_1.fit_transform(X[:, 1])\n",
    "\n",
    "labelencoder_X_2 = LabelEncoder()\n",
    "X[:, 2] = labelencoder_X_2.fit_transform(X[:, 2])\n",
    "\n",
    "onehotencoder = OneHotEncoder(categorical_features=[1])\n",
    "X = onehotencoder.fit_transform(X).toarray()\n",
    "X = X[:, 1:]"
   ]
  },
  {
   "cell_type": "code",
   "execution_count": 33,
   "metadata": {},
   "outputs": [],
   "source": [
    "from sklearn.model_selection import train_test_split"
   ]
  },
  {
   "cell_type": "code",
   "execution_count": 34,
   "metadata": {},
   "outputs": [],
   "source": [
    "X_train, X_test, y_train, y_test = train_test_split(X, y, test_size = 0.20, random_state = 101)"
   ]
  },
  {
   "cell_type": "code",
   "execution_count": 35,
   "metadata": {},
   "outputs": [],
   "source": [
    "from sklearn.preprocessing import StandardScaler"
   ]
  },
  {
   "cell_type": "code",
   "execution_count": 36,
   "metadata": {},
   "outputs": [],
   "source": [
    "sc = StandardScaler()\n",
    "X_train = sc.fit_transform(X_train)\n",
    "X_test = sc.transform(X_test)"
   ]
  },
  {
   "cell_type": "code",
   "execution_count": 37,
   "metadata": {},
   "outputs": [],
   "source": [
    "import tensorflow"
   ]
  },
  {
   "cell_type": "code",
   "execution_count": 38,
   "metadata": {},
   "outputs": [],
   "source": [
    "import keras"
   ]
  },
  {
   "cell_type": "code",
   "execution_count": 39,
   "metadata": {},
   "outputs": [],
   "source": [
    "from keras.models import Sequential"
   ]
  },
  {
   "cell_type": "code",
   "execution_count": 40,
   "metadata": {},
   "outputs": [],
   "source": [
    "from keras.layers import Dense, Dropout"
   ]
  },
  {
   "cell_type": "code",
   "execution_count": 41,
   "metadata": {},
   "outputs": [],
   "source": [
    "# initializing the ANN\n",
    "classifier = Sequential()"
   ]
  },
  {
   "cell_type": "code",
   "execution_count": 42,
   "metadata": {},
   "outputs": [
    {
     "name": "stderr",
     "output_type": "stream",
     "text": [
      "/Users/sudeng/anaconda3/lib/python3.7/site-packages/ipykernel_launcher.py:2: UserWarning: Update your `Dense` call to the Keras 2 API: `Dense(activation=\"relu\", input_dim=11, units=6, kernel_initializer=\"uniform\")`\n",
      "  \n"
     ]
    }
   ],
   "source": [
    "# add the input layer and the first hidden layer\n",
    "classifier.add(Dense(output_dim=6, init='uniform', activation='relu', input_dim=11))\n"
   ]
  },
  {
   "cell_type": "code",
   "execution_count": 43,
   "metadata": {},
   "outputs": [
    {
     "name": "stderr",
     "output_type": "stream",
     "text": [
      "/Users/sudeng/anaconda3/lib/python3.7/site-packages/ipykernel_launcher.py:1: UserWarning: Update your `Dropout` call to the Keras 2 API: `Dropout(rate=0.1)`\n",
      "  \"\"\"Entry point for launching an IPython kernel.\n"
     ]
    }
   ],
   "source": [
    "classifier.add(Dropout(p=0.1))"
   ]
  },
  {
   "cell_type": "code",
   "execution_count": 44,
   "metadata": {},
   "outputs": [],
   "source": [
    "# the 6 is because (1+11)/2\n",
    "# the 11 is the # of input variables\n",
    "# uniform is the way we initialize the weights randomly, close to 0"
   ]
  },
  {
   "cell_type": "code",
   "execution_count": 45,
   "metadata": {},
   "outputs": [
    {
     "name": "stderr",
     "output_type": "stream",
     "text": [
      "/Users/sudeng/anaconda3/lib/python3.7/site-packages/ipykernel_launcher.py:2: UserWarning: Update your `Dense` call to the Keras 2 API: `Dense(activation=\"relu\", units=6, kernel_initializer=\"uniform\")`\n",
      "  \n"
     ]
    }
   ],
   "source": [
    "# add the second hidden layer\n",
    "classifier.add(Dense(output_dim=6, init='uniform', activation='relu'))\n"
   ]
  },
  {
   "cell_type": "code",
   "execution_count": 46,
   "metadata": {},
   "outputs": [
    {
     "name": "stderr",
     "output_type": "stream",
     "text": [
      "/Users/sudeng/anaconda3/lib/python3.7/site-packages/ipykernel_launcher.py:1: UserWarning: Update your `Dropout` call to the Keras 2 API: `Dropout(rate=0.1)`\n",
      "  \"\"\"Entry point for launching an IPython kernel.\n"
     ]
    }
   ],
   "source": [
    "classifier.add(Dropout(p=0.1))"
   ]
  },
  {
   "cell_type": "code",
   "execution_count": 47,
   "metadata": {},
   "outputs": [
    {
     "name": "stderr",
     "output_type": "stream",
     "text": [
      "/Users/sudeng/anaconda3/lib/python3.7/site-packages/ipykernel_launcher.py:2: UserWarning: Update your `Dense` call to the Keras 2 API: `Dense(activation=\"sigmoid\", units=1, kernel_initializer=\"uniform\")`\n",
      "  \n"
     ]
    }
   ],
   "source": [
    "# add the output layer\n",
    "classifier.add(Dense(output_dim=1, init='uniform', activation='sigmoid'))"
   ]
  },
  {
   "cell_type": "code",
   "execution_count": 48,
   "metadata": {},
   "outputs": [],
   "source": [
    "# compiling the ANN(gradient descent)\n",
    "classifier.compile(optimizer='adam', loss='binary_crossentropy', metrics=['accuracy'])"
   ]
  },
  {
   "cell_type": "code",
   "execution_count": 49,
   "metadata": {},
   "outputs": [
    {
     "name": "stderr",
     "output_type": "stream",
     "text": [
      "/Users/sudeng/anaconda3/lib/python3.7/site-packages/ipykernel_launcher.py:2: UserWarning: The `nb_epoch` argument in `fit` has been renamed `epochs`.\n",
      "  \n"
     ]
    },
    {
     "name": "stdout",
     "output_type": "stream",
     "text": [
      "Epoch 1/100\n",
      "8000/8000 [==============================] - 1s 131us/step - loss: 0.4888 - acc: 0.7982\n",
      "Epoch 2/100\n",
      "8000/8000 [==============================] - 1s 97us/step - loss: 0.4361 - acc: 0.7982\n",
      "Epoch 3/100\n",
      "8000/8000 [==============================] - 1s 92us/step - loss: 0.4300 - acc: 0.7982\n",
      "Epoch 4/100\n",
      "8000/8000 [==============================] - 1s 92us/step - loss: 0.4271 - acc: 0.7996\n",
      "Epoch 5/100\n",
      "8000/8000 [==============================] - 1s 94us/step - loss: 0.4262 - acc: 0.8229\n",
      "Epoch 6/100\n",
      "8000/8000 [==============================] - 1s 94us/step - loss: 0.4241 - acc: 0.8277\n",
      "Epoch 7/100\n",
      "8000/8000 [==============================] - 1s 103us/step - loss: 0.4259 - acc: 0.8264\n",
      "Epoch 8/100\n",
      "8000/8000 [==============================] - 1s 116us/step - loss: 0.4237 - acc: 0.8276\n",
      "Epoch 9/100\n",
      "8000/8000 [==============================] - 1s 96us/step - loss: 0.4265 - acc: 0.8295: 0s - loss: 0.4258 - ac\n",
      "Epoch 10/100\n",
      "8000/8000 [==============================] - 1s 89us/step - loss: 0.4258 - acc: 0.8296\n",
      "Epoch 11/100\n",
      "8000/8000 [==============================] - 1s 94us/step - loss: 0.4251 - acc: 0.8294\n",
      "Epoch 12/100\n",
      "8000/8000 [==============================] - 1s 96us/step - loss: 0.4229 - acc: 0.8297\n",
      "Epoch 13/100\n",
      "8000/8000 [==============================] - 1s 115us/step - loss: 0.4263 - acc: 0.8304 0s - loss: 0.4267 - acc: 0.829\n",
      "Epoch 14/100\n",
      "8000/8000 [==============================] - 1s 100us/step - loss: 0.4238 - acc: 0.8307 0s - loss: 0.4084 - ac\n",
      "Epoch 15/100\n",
      "8000/8000 [==============================] - 1s 93us/step - loss: 0.4238 - acc: 0.8299\n",
      "Epoch 16/100\n",
      "8000/8000 [==============================] - 1s 99us/step - loss: 0.4269 - acc: 0.8319\n",
      "Epoch 17/100\n",
      "8000/8000 [==============================] - 1s 104us/step - loss: 0.4249 - acc: 0.8312\n",
      "Epoch 18/100\n",
      "8000/8000 [==============================] - 1s 106us/step - loss: 0.4259 - acc: 0.8315\n",
      "Epoch 19/100\n",
      "8000/8000 [==============================] - 1s 104us/step - loss: 0.4230 - acc: 0.8325 0s - loss: 0.4337 - acc: \n",
      "Epoch 20/100\n",
      "8000/8000 [==============================] - 1s 102us/step - loss: 0.4219 - acc: 0.8325\n",
      "Epoch 21/100\n",
      "8000/8000 [==============================] - 1s 101us/step - loss: 0.4209 - acc: 0.8310\n",
      "Epoch 22/100\n",
      "8000/8000 [==============================] - 1s 88us/step - loss: 0.4212 - acc: 0.8327\n",
      "Epoch 23/100\n",
      "8000/8000 [==============================] - 1s 92us/step - loss: 0.4216 - acc: 0.8320\n",
      "Epoch 24/100\n",
      "8000/8000 [==============================] - 1s 99us/step - loss: 0.4225 - acc: 0.8339\n",
      "Epoch 25/100\n",
      "8000/8000 [==============================] - 1s 105us/step - loss: 0.4202 - acc: 0.8326\n",
      "Epoch 26/100\n",
      "8000/8000 [==============================] - 1s 114us/step - loss: 0.4243 - acc: 0.8331\n",
      "Epoch 27/100\n",
      "8000/8000 [==============================] - 1s 97us/step - loss: 0.4203 - acc: 0.8331\n",
      "Epoch 28/100\n",
      "8000/8000 [==============================] - 1s 100us/step - loss: 0.4215 - acc: 0.8327\n",
      "Epoch 29/100\n",
      "8000/8000 [==============================] - 1s 94us/step - loss: 0.4239 - acc: 0.8327\n",
      "Epoch 30/100\n",
      "8000/8000 [==============================] - 1s 89us/step - loss: 0.4239 - acc: 0.8316\n",
      "Epoch 31/100\n",
      "8000/8000 [==============================] - 1s 96us/step - loss: 0.4195 - acc: 0.8351\n",
      "Epoch 32/100\n",
      "8000/8000 [==============================] - 1s 116us/step - loss: 0.4233 - acc: 0.8315\n",
      "Epoch 33/100\n",
      "8000/8000 [==============================] - 1s 94us/step - loss: 0.4219 - acc: 0.8344\n",
      "Epoch 34/100\n",
      "8000/8000 [==============================] - 1s 95us/step - loss: 0.4223 - acc: 0.8342\n",
      "Epoch 35/100\n",
      "8000/8000 [==============================] - 1s 96us/step - loss: 0.4207 - acc: 0.8329\n",
      "Epoch 36/100\n",
      "8000/8000 [==============================] - 1s 99us/step - loss: 0.4209 - acc: 0.8321\n",
      "Epoch 37/100\n",
      "8000/8000 [==============================] - 1s 101us/step - loss: 0.4208 - acc: 0.8327\n",
      "Epoch 38/100\n",
      "8000/8000 [==============================] - 1s 108us/step - loss: 0.4221 - acc: 0.8327\n",
      "Epoch 39/100\n",
      "8000/8000 [==============================] - 1s 101us/step - loss: 0.4196 - acc: 0.8326\n",
      "Epoch 40/100\n",
      "8000/8000 [==============================] - 1s 101us/step - loss: 0.4215 - acc: 0.8354\n",
      "Epoch 41/100\n",
      "8000/8000 [==============================] - 1s 104us/step - loss: 0.4217 - acc: 0.8307\n",
      "Epoch 42/100\n",
      "8000/8000 [==============================] - 1s 102us/step - loss: 0.4190 - acc: 0.8341 0s - loss: 0.4381 -\n",
      "Epoch 43/100\n",
      "8000/8000 [==============================] - 1s 104us/step - loss: 0.4206 - acc: 0.8337\n",
      "Epoch 44/100\n",
      "8000/8000 [==============================] - 1s 101us/step - loss: 0.4227 - acc: 0.8344\n",
      "Epoch 45/100\n",
      "8000/8000 [==============================] - 1s 102us/step - loss: 0.4217 - acc: 0.8307\n",
      "Epoch 46/100\n",
      "8000/8000 [==============================] - 1s 107us/step - loss: 0.4198 - acc: 0.8337\n",
      "Epoch 47/100\n",
      "8000/8000 [==============================] - 1s 102us/step - loss: 0.4217 - acc: 0.8344\n",
      "Epoch 48/100\n",
      "8000/8000 [==============================] - 1s 101us/step - loss: 0.4218 - acc: 0.8327 0s - loss: 0.4146 - acc:\n",
      "Epoch 49/100\n",
      "8000/8000 [==============================] - 1s 104us/step - loss: 0.4189 - acc: 0.8339 0s - loss: 0.4170 - acc: \n",
      "Epoch 50/100\n",
      "8000/8000 [==============================] - 1s 101us/step - loss: 0.4213 - acc: 0.8327\n",
      "Epoch 51/100\n",
      "8000/8000 [==============================] - 1s 115us/step - loss: 0.4200 - acc: 0.8325\n",
      "Epoch 52/100\n",
      "8000/8000 [==============================] - 1s 100us/step - loss: 0.4234 - acc: 0.8322\n",
      "Epoch 53/100\n",
      "8000/8000 [==============================] - 1s 100us/step - loss: 0.4208 - acc: 0.8329\n",
      "Epoch 54/100\n",
      "8000/8000 [==============================] - 1s 99us/step - loss: 0.4177 - acc: 0.8341\n",
      "Epoch 55/100\n",
      "8000/8000 [==============================] - 1s 100us/step - loss: 0.4199 - acc: 0.8341\n",
      "Epoch 56/100\n",
      "8000/8000 [==============================] - 1s 99us/step - loss: 0.4215 - acc: 0.8344\n",
      "Epoch 57/100\n",
      "8000/8000 [==============================] - 1s 96us/step - loss: 0.4213 - acc: 0.8329\n",
      "Epoch 58/100\n",
      "8000/8000 [==============================] - 1s 100us/step - loss: 0.4221 - acc: 0.8337\n",
      "Epoch 59/100\n",
      "8000/8000 [==============================] - 1s 100us/step - loss: 0.4246 - acc: 0.8307\n",
      "Epoch 60/100\n",
      "8000/8000 [==============================] - 1s 99us/step - loss: 0.4188 - acc: 0.8344\n",
      "Epoch 61/100\n",
      "8000/8000 [==============================] - 1s 101us/step - loss: 0.4209 - acc: 0.8340\n",
      "Epoch 62/100\n",
      "8000/8000 [==============================] - 1s 99us/step - loss: 0.4204 - acc: 0.8337\n",
      "Epoch 63/100\n",
      "8000/8000 [==============================] - 1s 109us/step - loss: 0.4236 - acc: 0.8332\n",
      "Epoch 64/100\n",
      "8000/8000 [==============================] - 1s 121us/step - loss: 0.4194 - acc: 0.8332\n",
      "Epoch 65/100\n",
      "8000/8000 [==============================] - 1s 113us/step - loss: 0.4192 - acc: 0.8336\n",
      "Epoch 66/100\n",
      "8000/8000 [==============================] - 1s 115us/step - loss: 0.4239 - acc: 0.8346\n",
      "Epoch 67/100\n",
      "8000/8000 [==============================] - 1s 124us/step - loss: 0.4190 - acc: 0.8362\n",
      "Epoch 68/100\n",
      "8000/8000 [==============================] - 1s 110us/step - loss: 0.4203 - acc: 0.8362\n",
      "Epoch 69/100\n",
      "8000/8000 [==============================] - 1s 100us/step - loss: 0.4217 - acc: 0.8344\n",
      "Epoch 70/100\n",
      "8000/8000 [==============================] - 1s 107us/step - loss: 0.4215 - acc: 0.8329\n",
      "Epoch 71/100\n",
      "8000/8000 [==============================] - 1s 115us/step - loss: 0.4215 - acc: 0.8340\n",
      "Epoch 72/100\n",
      "8000/8000 [==============================] - 1s 124us/step - loss: 0.4178 - acc: 0.8317\n",
      "Epoch 73/100\n",
      "8000/8000 [==============================] - 1s 113us/step - loss: 0.4194 - acc: 0.8340\n",
      "Epoch 74/100\n",
      "8000/8000 [==============================] - 1s 116us/step - loss: 0.4187 - acc: 0.8332\n",
      "Epoch 75/100\n",
      "8000/8000 [==============================] - 1s 111us/step - loss: 0.4222 - acc: 0.8340\n",
      "Epoch 76/100\n",
      "8000/8000 [==============================] - 1s 109us/step - loss: 0.4206 - acc: 0.8320\n",
      "Epoch 77/100\n",
      "8000/8000 [==============================] - 1s 112us/step - loss: 0.4178 - acc: 0.8321\n",
      "Epoch 78/100\n",
      "8000/8000 [==============================] - 1s 125us/step - loss: 0.4178 - acc: 0.8352\n",
      "Epoch 79/100\n",
      "8000/8000 [==============================] - 1s 108us/step - loss: 0.4183 - acc: 0.8336\n",
      "Epoch 80/100\n"
     ]
    },
    {
     "name": "stdout",
     "output_type": "stream",
     "text": [
      "8000/8000 [==============================] - 1s 109us/step - loss: 0.4215 - acc: 0.8336\n",
      "Epoch 81/100\n",
      "8000/8000 [==============================] - 1s 120us/step - loss: 0.4199 - acc: 0.8321\n",
      "Epoch 82/100\n",
      "8000/8000 [==============================] - 1s 124us/step - loss: 0.4198 - acc: 0.8315\n",
      "Epoch 83/100\n",
      "8000/8000 [==============================] - 1s 130us/step - loss: 0.4191 - acc: 0.8342\n",
      "Epoch 84/100\n",
      "8000/8000 [==============================] - 1s 105us/step - loss: 0.4204 - acc: 0.8321\n",
      "Epoch 85/100\n",
      "8000/8000 [==============================] - 1s 103us/step - loss: 0.4193 - acc: 0.8319 0s - loss: 0.4143 - acc:\n",
      "Epoch 86/100\n",
      "8000/8000 [==============================] - 1s 99us/step - loss: 0.4213 - acc: 0.8327\n",
      "Epoch 87/100\n",
      "8000/8000 [==============================] - 1s 99us/step - loss: 0.4220 - acc: 0.8331\n",
      "Epoch 88/100\n",
      "8000/8000 [==============================] - 1s 103us/step - loss: 0.4231 - acc: 0.8330\n",
      "Epoch 89/100\n",
      "8000/8000 [==============================] - 1s 99us/step - loss: 0.4218 - acc: 0.8344\n",
      "Epoch 90/100\n",
      "8000/8000 [==============================] - 1s 99us/step - loss: 0.4185 - acc: 0.8321\n",
      "Epoch 91/100\n",
      "8000/8000 [==============================] - 1s 99us/step - loss: 0.4184 - acc: 0.8340\n",
      "Epoch 92/100\n",
      "8000/8000 [==============================] - 1s 100us/step - loss: 0.4183 - acc: 0.8337\n",
      "Epoch 93/100\n",
      "8000/8000 [==============================] - 1s 108us/step - loss: 0.4201 - acc: 0.8341\n",
      "Epoch 94/100\n",
      "8000/8000 [==============================] - 1s 101us/step - loss: 0.4195 - acc: 0.8324\n",
      "Epoch 95/100\n",
      "8000/8000 [==============================] - 1s 121us/step - loss: 0.4200 - acc: 0.8335\n",
      "Epoch 96/100\n",
      "8000/8000 [==============================] - 1s 105us/step - loss: 0.4179 - acc: 0.8347\n",
      "Epoch 97/100\n",
      "8000/8000 [==============================] - 1s 103us/step - loss: 0.4182 - acc: 0.8342\n",
      "Epoch 98/100\n",
      "8000/8000 [==============================] - 1s 116us/step - loss: 0.4224 - acc: 0.8344\n",
      "Epoch 99/100\n",
      "8000/8000 [==============================] - 1s 126us/step - loss: 0.4191 - acc: 0.8322\n",
      "Epoch 100/100\n",
      "8000/8000 [==============================] - 1s 122us/step - loss: 0.4216 - acc: 0.8327\n"
     ]
    },
    {
     "data": {
      "text/plain": [
       "<keras.callbacks.History at 0x1a33843940>"
      ]
     },
     "execution_count": 49,
     "metadata": {},
     "output_type": "execute_result"
    }
   ],
   "source": [
    "# fitting the ANN to the training set\n",
    "classifier.fit(X_train, y_train, batch_size=10, nb_epoch=100)"
   ]
  },
  {
   "cell_type": "code",
   "execution_count": 50,
   "metadata": {},
   "outputs": [],
   "source": [
    "y_pred = classifier.predict(X_test)"
   ]
  },
  {
   "cell_type": "code",
   "execution_count": 51,
   "metadata": {},
   "outputs": [],
   "source": [
    "y_pred = (y_pred>0.5)"
   ]
  },
  {
   "cell_type": "code",
   "execution_count": 52,
   "metadata": {},
   "outputs": [],
   "source": [
    "from sklearn.metrics import confusion_matrix, classification_report"
   ]
  },
  {
   "cell_type": "code",
   "execution_count": 53,
   "metadata": {},
   "outputs": [
    {
     "name": "stdout",
     "output_type": "stream",
     "text": [
      "             precision    recall  f1-score   support\n",
      "\n",
      "          0       0.84      0.98      0.90      1577\n",
      "          1       0.78      0.30      0.43       423\n",
      "\n",
      "avg / total       0.83      0.83      0.80      2000\n",
      "\n"
     ]
    }
   ],
   "source": [
    "print(classification_report(y_test, y_pred))"
   ]
  },
  {
   "cell_type": "code",
   "execution_count": 54,
   "metadata": {},
   "outputs": [
    {
     "name": "stdout",
     "output_type": "stream",
     "text": [
      "[[1542   35]\n",
      " [ 298  125]]\n"
     ]
    }
   ],
   "source": [
    "print(confusion_matrix(y_test, y_pred))"
   ]
  },
  {
   "cell_type": "markdown",
   "metadata": {},
   "source": [
    "\"\"\"Predict if the customer with the following informations will leave the bank:\n",
    "Geography: France.\n",
    "Credit Score: 600.\n",
    "Gender: Male.\n",
    "Age: 40.\n",
    "Tenure: 3.\n",
    "Balance: 60000.\n",
    "Number of Products: 2.\n",
    "Has Credit Card: Yes.\n",
    "Is Active Member: Yes.\n",
    "Estimated Salary: 50000\"\"\""
   ]
  },
  {
   "cell_type": "code",
   "execution_count": 24,
   "metadata": {},
   "outputs": [
    {
     "name": "stderr",
     "output_type": "stream",
     "text": [
      "/Users/sudeng/anaconda3/lib/python3.7/site-packages/sklearn/utils/validation.py:475: DataConversionWarning: Data with input dtype int64 was converted to float64 by StandardScaler.\n",
      "  warnings.warn(msg, DataConversionWarning)\n"
     ]
    }
   ],
   "source": [
    "new_predictions = classifier.predict(sc.transform(np.array([[0, 0, 600, 1, 40, 3, 60000, 2, 1, 1, 50000]])))"
   ]
  },
  {
   "cell_type": "code",
   "execution_count": 25,
   "metadata": {},
   "outputs": [],
   "source": [
    "new_predictions = (new_predictions > 0.5)"
   ]
  },
  {
   "cell_type": "code",
   "execution_count": 26,
   "metadata": {},
   "outputs": [
    {
     "data": {
      "text/plain": [
       "array([[False]])"
      ]
     },
     "execution_count": 26,
     "metadata": {},
     "output_type": "execute_result"
    }
   ],
   "source": [
    "new_predictions"
   ]
  },
  {
   "cell_type": "code",
   "execution_count": 27,
   "metadata": {},
   "outputs": [],
   "source": [
    "# the customer doesn't leave the bank"
   ]
  },
  {
   "cell_type": "code",
   "execution_count": null,
   "metadata": {},
   "outputs": [],
   "source": []
  }
 ],
 "metadata": {
  "kernelspec": {
   "display_name": "Python 3",
   "language": "python",
   "name": "python3"
  },
  "language_info": {
   "codemirror_mode": {
    "name": "ipython",
    "version": 3
   },
   "file_extension": ".py",
   "mimetype": "text/x-python",
   "name": "python",
   "nbconvert_exporter": "python",
   "pygments_lexer": "ipython3",
   "version": "3.7.1"
  }
 },
 "nbformat": 4,
 "nbformat_minor": 2
}
