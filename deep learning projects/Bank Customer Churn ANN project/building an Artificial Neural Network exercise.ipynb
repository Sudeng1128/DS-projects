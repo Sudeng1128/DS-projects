{
 "cells": [
  {
   "cell_type": "code",
   "execution_count": 56,
   "metadata": {},
   "outputs": [],
   "source": [
    "import numpy as np\n",
    "import matplotlib.pyplot as plt\n",
    "import pandas as pd"
   ]
  },
  {
   "cell_type": "code",
   "execution_count": 57,
   "metadata": {},
   "outputs": [],
   "source": [
    "dataset = pd.read_csv('Churn_Modelling.csv')\n",
    "X = dataset.iloc[:, 3:13].values\n",
    "y = dataset.iloc[:, 13].values"
   ]
  },
  {
   "cell_type": "code",
   "execution_count": 58,
   "metadata": {},
   "outputs": [],
   "source": [
    "from sklearn.preprocessing import OneHotEncoder, LabelEncoder"
   ]
  },
  {
   "cell_type": "code",
   "execution_count": 59,
   "metadata": {},
   "outputs": [],
   "source": [
    "labelencoder_X_1 = LabelEncoder()\n",
    "X[:, 1] = labelencoder_X_1.fit_transform(X[:, 1])\n",
    "\n",
    "labelencoder_X_2 = LabelEncoder()\n",
    "X[:, 2] = labelencoder_X_2.fit_transform(X[:, 2])\n",
    "\n",
    "onehotencoder = OneHotEncoder(categorical_features=[1])\n",
    "X = onehotencoder.fit_transform(X).toarray()\n",
    "X = X[:, 1:]"
   ]
  },
  {
   "cell_type": "code",
   "execution_count": 60,
   "metadata": {},
   "outputs": [],
   "source": [
    "from sklearn.model_selection import train_test_split"
   ]
  },
  {
   "cell_type": "code",
   "execution_count": 61,
   "metadata": {},
   "outputs": [],
   "source": [
    "X_train, X_test, y_train, y_test = train_test_split(X, y, test_size = 0.20, random_state = 101)"
   ]
  },
  {
   "cell_type": "code",
   "execution_count": 62,
   "metadata": {},
   "outputs": [],
   "source": [
    "from sklearn.preprocessing import StandardScaler"
   ]
  },
  {
   "cell_type": "code",
   "execution_count": 63,
   "metadata": {},
   "outputs": [],
   "source": [
    "sc = StandardScaler()\n",
    "X_train = sc.fit_transform(X_train)\n",
    "X_test = sc.transform(X_test)"
   ]
  },
  {
   "cell_type": "code",
   "execution_count": 64,
   "metadata": {},
   "outputs": [],
   "source": [
    "import tensorflow"
   ]
  },
  {
   "cell_type": "code",
   "execution_count": 65,
   "metadata": {},
   "outputs": [],
   "source": [
    "import keras"
   ]
  },
  {
   "cell_type": "code",
   "execution_count": 66,
   "metadata": {},
   "outputs": [],
   "source": [
    "from keras.models import Sequential"
   ]
  },
  {
   "cell_type": "code",
   "execution_count": 67,
   "metadata": {},
   "outputs": [],
   "source": [
    "from keras.layers import Dense, Dropout"
   ]
  },
  {
   "cell_type": "code",
   "execution_count": 68,
   "metadata": {},
   "outputs": [],
   "source": [
    "# initializing the ANN\n",
    "classifier = Sequential()"
   ]
  },
  {
   "cell_type": "code",
   "execution_count": 69,
   "metadata": {},
   "outputs": [
    {
     "name": "stderr",
     "output_type": "stream",
     "text": [
      "/Users/sudeng/anaconda3/lib/python3.7/site-packages/ipykernel_launcher.py:2: UserWarning: Update your `Dense` call to the Keras 2 API: `Dense(activation=\"relu\", input_dim=11, units=6, kernel_initializer=\"uniform\")`\n",
      "  \n"
     ]
    }
   ],
   "source": [
    "# add the input layer and the first hidden layer\n",
    "classifier.add(Dense(output_dim=6, init='uniform', activation='relu', input_dim=11))\n"
   ]
  },
  {
   "cell_type": "code",
   "execution_count": 70,
   "metadata": {},
   "outputs": [
    {
     "name": "stderr",
     "output_type": "stream",
     "text": [
      "/Users/sudeng/anaconda3/lib/python3.7/site-packages/ipykernel_launcher.py:1: UserWarning: Update your `Dropout` call to the Keras 2 API: `Dropout(rate=0.1)`\n",
      "  \"\"\"Entry point for launching an IPython kernel.\n"
     ]
    }
   ],
   "source": [
    "classifier.add(Dropout(p=0.1))"
   ]
  },
  {
   "cell_type": "code",
   "execution_count": 71,
   "metadata": {},
   "outputs": [],
   "source": [
    "# the 6 is because (1+11)/2\n",
    "# the 11 is the # of input variables\n",
    "# uniform is the way we initialize the weights randomly, close to 0"
   ]
  },
  {
   "cell_type": "code",
   "execution_count": 72,
   "metadata": {},
   "outputs": [
    {
     "name": "stderr",
     "output_type": "stream",
     "text": [
      "/Users/sudeng/anaconda3/lib/python3.7/site-packages/ipykernel_launcher.py:2: UserWarning: Update your `Dense` call to the Keras 2 API: `Dense(activation=\"relu\", units=6, kernel_initializer=\"uniform\")`\n",
      "  \n"
     ]
    }
   ],
   "source": [
    "# add the second hidden layer\n",
    "classifier.add(Dense(output_dim=6, init='uniform', activation='relu'))\n"
   ]
  },
  {
   "cell_type": "code",
   "execution_count": 73,
   "metadata": {},
   "outputs": [
    {
     "name": "stderr",
     "output_type": "stream",
     "text": [
      "/Users/sudeng/anaconda3/lib/python3.7/site-packages/ipykernel_launcher.py:1: UserWarning: Update your `Dropout` call to the Keras 2 API: `Dropout(rate=0.1)`\n",
      "  \"\"\"Entry point for launching an IPython kernel.\n"
     ]
    }
   ],
   "source": [
    "classifier.add(Dropout(p=0.1))"
   ]
  },
  {
   "cell_type": "code",
   "execution_count": 74,
   "metadata": {},
   "outputs": [
    {
     "name": "stderr",
     "output_type": "stream",
     "text": [
      "/Users/sudeng/anaconda3/lib/python3.7/site-packages/ipykernel_launcher.py:2: UserWarning: Update your `Dense` call to the Keras 2 API: `Dense(activation=\"sigmoid\", units=1, kernel_initializer=\"uniform\")`\n",
      "  \n"
     ]
    }
   ],
   "source": [
    "# add the output layer\n",
    "classifier.add(Dense(output_dim=1, init='uniform', activation='sigmoid'))"
   ]
  },
  {
   "cell_type": "code",
   "execution_count": 75,
   "metadata": {},
   "outputs": [],
   "source": [
    "# compiling the ANN(gradient descent)\n",
    "classifier.compile(optimizer='adam', loss='binary_crossentropy', metrics=['accuracy'])"
   ]
  },
  {
   "cell_type": "code",
   "execution_count": 76,
   "metadata": {},
   "outputs": [
    {
     "name": "stderr",
     "output_type": "stream",
     "text": [
      "/Users/sudeng/anaconda3/lib/python3.7/site-packages/ipykernel_launcher.py:2: UserWarning: The `nb_epoch` argument in `fit` has been renamed `epochs`.\n",
      "  \n"
     ]
    },
    {
     "name": "stdout",
     "output_type": "stream",
     "text": [
      "Epoch 1/200\n",
      "8000/8000 [==============================] - 1s 72us/step - loss: 0.5659 - acc: 0.7970\n",
      "Epoch 2/200\n",
      "8000/8000 [==============================] - 0s 37us/step - loss: 0.4433 - acc: 0.7982\n",
      "Epoch 3/200\n",
      "8000/8000 [==============================] - 0s 33us/step - loss: 0.4385 - acc: 0.7982\n",
      "Epoch 4/200\n",
      "8000/8000 [==============================] - 0s 32us/step - loss: 0.4370 - acc: 0.7982\n",
      "Epoch 5/200\n",
      "8000/8000 [==============================] - 0s 33us/step - loss: 0.4351 - acc: 0.7983\n",
      "Epoch 6/200\n",
      "8000/8000 [==============================] - 0s 34us/step - loss: 0.4326 - acc: 0.7982\n",
      "Epoch 7/200\n",
      "8000/8000 [==============================] - 0s 35us/step - loss: 0.4314 - acc: 0.7982\n",
      "Epoch 8/200\n",
      "8000/8000 [==============================] - 0s 37us/step - loss: 0.4332 - acc: 0.7982\n",
      "Epoch 9/200\n",
      "8000/8000 [==============================] - 0s 49us/step - loss: 0.4314 - acc: 0.7982\n",
      "Epoch 10/200\n",
      "8000/8000 [==============================] - 0s 39us/step - loss: 0.4308 - acc: 0.7983\n",
      "Epoch 11/200\n",
      "8000/8000 [==============================] - 0s 38us/step - loss: 0.4288 - acc: 0.7982\n",
      "Epoch 12/200\n",
      "8000/8000 [==============================] - 0s 34us/step - loss: 0.4295 - acc: 0.7982\n",
      "Epoch 13/200\n",
      "8000/8000 [==============================] - 0s 32us/step - loss: 0.4302 - acc: 0.7982\n",
      "Epoch 14/200\n",
      "8000/8000 [==============================] - 0s 32us/step - loss: 0.4308 - acc: 0.8146\n",
      "Epoch 15/200\n",
      "8000/8000 [==============================] - 0s 32us/step - loss: 0.4265 - acc: 0.8219\n",
      "Epoch 16/200\n",
      "8000/8000 [==============================] - 0s 32us/step - loss: 0.4314 - acc: 0.8231\n",
      "Epoch 17/200\n",
      "8000/8000 [==============================] - 0s 32us/step - loss: 0.4270 - acc: 0.8250\n",
      "Epoch 18/200\n",
      "8000/8000 [==============================] - 0s 31us/step - loss: 0.4280 - acc: 0.8267\n",
      "Epoch 19/200\n",
      "8000/8000 [==============================] - 0s 32us/step - loss: 0.4303 - acc: 0.8255\n",
      "Epoch 20/200\n",
      "8000/8000 [==============================] - 0s 32us/step - loss: 0.4304 - acc: 0.8266\n",
      "Epoch 21/200\n",
      "8000/8000 [==============================] - 0s 32us/step - loss: 0.4261 - acc: 0.8252\n",
      "Epoch 22/200\n",
      "8000/8000 [==============================] - 0s 33us/step - loss: 0.4265 - acc: 0.8302\n",
      "Epoch 23/200\n",
      "8000/8000 [==============================] - 0s 32us/step - loss: 0.4249 - acc: 0.8287\n",
      "Epoch 24/200\n",
      "8000/8000 [==============================] - 0s 33us/step - loss: 0.4272 - acc: 0.8297\n",
      "Epoch 25/200\n",
      "8000/8000 [==============================] - 0s 33us/step - loss: 0.4249 - acc: 0.8299\n",
      "Epoch 26/200\n",
      "8000/8000 [==============================] - 0s 32us/step - loss: 0.4282 - acc: 0.8270\n",
      "Epoch 27/200\n",
      "8000/8000 [==============================] - 0s 34us/step - loss: 0.4261 - acc: 0.8290\n",
      "Epoch 28/200\n",
      "8000/8000 [==============================] - 0s 33us/step - loss: 0.4276 - acc: 0.8310\n",
      "Epoch 29/200\n",
      "8000/8000 [==============================] - 0s 33us/step - loss: 0.4263 - acc: 0.8315\n",
      "Epoch 30/200\n",
      "8000/8000 [==============================] - 0s 33us/step - loss: 0.4313 - acc: 0.8306\n",
      "Epoch 31/200\n",
      "8000/8000 [==============================] - 0s 32us/step - loss: 0.4298 - acc: 0.8291\n",
      "Epoch 32/200\n",
      "8000/8000 [==============================] - 0s 33us/step - loss: 0.4271 - acc: 0.8300\n",
      "Epoch 33/200\n",
      "8000/8000 [==============================] - 0s 32us/step - loss: 0.4261 - acc: 0.8301\n",
      "Epoch 34/200\n",
      "8000/8000 [==============================] - 0s 33us/step - loss: 0.4266 - acc: 0.8292\n",
      "Epoch 35/200\n",
      "8000/8000 [==============================] - 0s 34us/step - loss: 0.4237 - acc: 0.8290\n",
      "Epoch 36/200\n",
      "8000/8000 [==============================] - 0s 31us/step - loss: 0.4259 - acc: 0.8287\n",
      "Epoch 37/200\n",
      "8000/8000 [==============================] - 0s 31us/step - loss: 0.4248 - acc: 0.8300\n",
      "Epoch 38/200\n",
      "8000/8000 [==============================] - 0s 31us/step - loss: 0.4258 - acc: 0.8281\n",
      "Epoch 39/200\n",
      "8000/8000 [==============================] - 0s 33us/step - loss: 0.4231 - acc: 0.8301\n",
      "Epoch 40/200\n",
      "8000/8000 [==============================] - 0s 34us/step - loss: 0.4240 - acc: 0.8320\n",
      "Epoch 41/200\n",
      "8000/8000 [==============================] - 0s 34us/step - loss: 0.4257 - acc: 0.8304\n",
      "Epoch 42/200\n",
      "8000/8000 [==============================] - 0s 33us/step - loss: 0.4254 - acc: 0.8316\n",
      "Epoch 43/200\n",
      "8000/8000 [==============================] - 0s 36us/step - loss: 0.4281 - acc: 0.8307\n",
      "Epoch 44/200\n",
      "8000/8000 [==============================] - 0s 32us/step - loss: 0.4269 - acc: 0.8292\n",
      "Epoch 45/200\n",
      "8000/8000 [==============================] - 0s 33us/step - loss: 0.4267 - acc: 0.8307\n",
      "Epoch 46/200\n",
      "8000/8000 [==============================] - 0s 33us/step - loss: 0.4257 - acc: 0.8312\n",
      "Epoch 47/200\n",
      "8000/8000 [==============================] - 0s 31us/step - loss: 0.4268 - acc: 0.8272\n",
      "Epoch 48/200\n",
      "8000/8000 [==============================] - 0s 31us/step - loss: 0.4234 - acc: 0.8296\n",
      "Epoch 49/200\n",
      "8000/8000 [==============================] - 0s 32us/step - loss: 0.4259 - acc: 0.8322\n",
      "Epoch 50/200\n",
      "8000/8000 [==============================] - 0s 31us/step - loss: 0.4277 - acc: 0.8296\n",
      "Epoch 51/200\n",
      "8000/8000 [==============================] - 0s 32us/step - loss: 0.4275 - acc: 0.8277\n",
      "Epoch 52/200\n",
      "8000/8000 [==============================] - 0s 31us/step - loss: 0.4220 - acc: 0.8297\n",
      "Epoch 53/200\n",
      "8000/8000 [==============================] - 0s 33us/step - loss: 0.4250 - acc: 0.8299\n",
      "Epoch 54/200\n",
      "8000/8000 [==============================] - 0s 32us/step - loss: 0.4239 - acc: 0.8274\n",
      "Epoch 55/200\n",
      "8000/8000 [==============================] - 0s 31us/step - loss: 0.4259 - acc: 0.8296\n",
      "Epoch 56/200\n",
      "8000/8000 [==============================] - 0s 32us/step - loss: 0.4244 - acc: 0.8284\n",
      "Epoch 57/200\n",
      "8000/8000 [==============================] - 0s 31us/step - loss: 0.4281 - acc: 0.8299\n",
      "Epoch 58/200\n",
      "8000/8000 [==============================] - 0s 32us/step - loss: 0.4251 - acc: 0.8287\n",
      "Epoch 59/200\n",
      "8000/8000 [==============================] - 0s 32us/step - loss: 0.4244 - acc: 0.8304\n",
      "Epoch 60/200\n",
      "8000/8000 [==============================] - 0s 31us/step - loss: 0.4232 - acc: 0.8306\n",
      "Epoch 61/200\n",
      "8000/8000 [==============================] - 0s 33us/step - loss: 0.4282 - acc: 0.8307\n",
      "Epoch 62/200\n",
      "8000/8000 [==============================] - 0s 39us/step - loss: 0.4266 - acc: 0.8296\n",
      "Epoch 63/200\n",
      "8000/8000 [==============================] - 0s 33us/step - loss: 0.4245 - acc: 0.8285\n",
      "Epoch 64/200\n",
      "8000/8000 [==============================] - 0s 32us/step - loss: 0.4261 - acc: 0.8299\n",
      "Epoch 65/200\n",
      "8000/8000 [==============================] - 0s 31us/step - loss: 0.4262 - acc: 0.8321\n",
      "Epoch 66/200\n",
      "8000/8000 [==============================] - 0s 32us/step - loss: 0.4284 - acc: 0.8295\n",
      "Epoch 67/200\n",
      "8000/8000 [==============================] - 0s 35us/step - loss: 0.4256 - acc: 0.8300\n",
      "Epoch 68/200\n",
      "8000/8000 [==============================] - 0s 31us/step - loss: 0.4245 - acc: 0.8297\n",
      "Epoch 69/200\n",
      "8000/8000 [==============================] - 0s 31us/step - loss: 0.4255 - acc: 0.8304\n",
      "Epoch 70/200\n",
      "8000/8000 [==============================] - 0s 31us/step - loss: 0.4261 - acc: 0.8296\n",
      "Epoch 71/200\n",
      "8000/8000 [==============================] - 0s 35us/step - loss: 0.4237 - acc: 0.8322\n",
      "Epoch 72/200\n",
      "8000/8000 [==============================] - 0s 31us/step - loss: 0.4249 - acc: 0.8279\n",
      "Epoch 73/200\n",
      "8000/8000 [==============================] - 0s 36us/step - loss: 0.4218 - acc: 0.8301\n",
      "Epoch 74/200\n",
      "8000/8000 [==============================] - 0s 32us/step - loss: 0.4237 - acc: 0.8301\n",
      "Epoch 75/200\n",
      "8000/8000 [==============================] - 0s 38us/step - loss: 0.4258 - acc: 0.8300\n",
      "Epoch 76/200\n",
      "8000/8000 [==============================] - 0s 41us/step - loss: 0.4265 - acc: 0.8297\n",
      "Epoch 77/200\n",
      "8000/8000 [==============================] - 0s 41us/step - loss: 0.4237 - acc: 0.8290\n",
      "Epoch 78/200\n",
      "8000/8000 [==============================] - 0s 37us/step - loss: 0.4244 - acc: 0.8294\n",
      "Epoch 79/200\n",
      "8000/8000 [==============================] - 0s 34us/step - loss: 0.4245 - acc: 0.8305\n",
      "Epoch 80/200\n",
      "8000/8000 [==============================] - 0s 33us/step - loss: 0.4260 - acc: 0.8291\n",
      "Epoch 81/200\n",
      "8000/8000 [==============================] - 0s 33us/step - loss: 0.4223 - acc: 0.8305\n",
      "Epoch 82/200\n",
      "8000/8000 [==============================] - 0s 33us/step - loss: 0.4248 - acc: 0.8306\n",
      "Epoch 83/200\n"
     ]
    },
    {
     "name": "stdout",
     "output_type": "stream",
     "text": [
      "8000/8000 [==============================] - 0s 33us/step - loss: 0.4275 - acc: 0.8309\n",
      "Epoch 84/200\n",
      "8000/8000 [==============================] - 0s 33us/step - loss: 0.4233 - acc: 0.8327\n",
      "Epoch 85/200\n",
      "8000/8000 [==============================] - 0s 33us/step - loss: 0.4231 - acc: 0.8321\n",
      "Epoch 86/200\n",
      "8000/8000 [==============================] - 0s 32us/step - loss: 0.4223 - acc: 0.8319\n",
      "Epoch 87/200\n",
      "8000/8000 [==============================] - 0s 32us/step - loss: 0.4230 - acc: 0.8315\n",
      "Epoch 88/200\n",
      "8000/8000 [==============================] - 0s 32us/step - loss: 0.4229 - acc: 0.8297\n",
      "Epoch 89/200\n",
      "8000/8000 [==============================] - 0s 32us/step - loss: 0.4259 - acc: 0.8314\n",
      "Epoch 90/200\n",
      "8000/8000 [==============================] - 0s 33us/step - loss: 0.4249 - acc: 0.8294\n",
      "Epoch 91/200\n",
      "8000/8000 [==============================] - 0s 33us/step - loss: 0.4239 - acc: 0.8322\n",
      "Epoch 92/200\n",
      "8000/8000 [==============================] - 0s 32us/step - loss: 0.4228 - acc: 0.8319\n",
      "Epoch 93/200\n",
      "8000/8000 [==============================] - 0s 33us/step - loss: 0.4238 - acc: 0.8315\n",
      "Epoch 94/200\n",
      "8000/8000 [==============================] - 0s 33us/step - loss: 0.4231 - acc: 0.8320\n",
      "Epoch 95/200\n",
      "8000/8000 [==============================] - 0s 33us/step - loss: 0.4221 - acc: 0.8317\n",
      "Epoch 96/200\n",
      "8000/8000 [==============================] - 0s 33us/step - loss: 0.4252 - acc: 0.8276\n",
      "Epoch 97/200\n",
      "8000/8000 [==============================] - 0s 34us/step - loss: 0.4268 - acc: 0.8304\n",
      "Epoch 98/200\n",
      "8000/8000 [==============================] - 0s 34us/step - loss: 0.4231 - acc: 0.8312\n",
      "Epoch 99/200\n",
      "8000/8000 [==============================] - 0s 33us/step - loss: 0.4244 - acc: 0.8306\n",
      "Epoch 100/200\n",
      "8000/8000 [==============================] - 0s 34us/step - loss: 0.4232 - acc: 0.8296\n",
      "Epoch 101/200\n",
      "8000/8000 [==============================] - 0s 34us/step - loss: 0.4259 - acc: 0.8296\n",
      "Epoch 102/200\n",
      "8000/8000 [==============================] - 0s 33us/step - loss: 0.4248 - acc: 0.8317\n",
      "Epoch 103/200\n",
      "8000/8000 [==============================] - 0s 33us/step - loss: 0.4269 - acc: 0.8276\n",
      "Epoch 104/200\n",
      "8000/8000 [==============================] - 0s 34us/step - loss: 0.4253 - acc: 0.8291\n",
      "Epoch 105/200\n",
      "8000/8000 [==============================] - 0s 33us/step - loss: 0.4278 - acc: 0.8296\n",
      "Epoch 106/200\n",
      "8000/8000 [==============================] - 0s 33us/step - loss: 0.4250 - acc: 0.8282\n",
      "Epoch 107/200\n",
      "8000/8000 [==============================] - 0s 33us/step - loss: 0.4247 - acc: 0.8314\n",
      "Epoch 108/200\n",
      "8000/8000 [==============================] - 0s 33us/step - loss: 0.4270 - acc: 0.8292\n",
      "Epoch 109/200\n",
      "8000/8000 [==============================] - 0s 33us/step - loss: 0.4287 - acc: 0.8304\n",
      "Epoch 110/200\n",
      "8000/8000 [==============================] - 0s 33us/step - loss: 0.4252 - acc: 0.8296\n",
      "Epoch 111/200\n",
      "8000/8000 [==============================] - 0s 32us/step - loss: 0.4269 - acc: 0.8329\n",
      "Epoch 112/200\n",
      "8000/8000 [==============================] - 0s 33us/step - loss: 0.4237 - acc: 0.8330\n",
      "Epoch 113/200\n",
      "8000/8000 [==============================] - 0s 33us/step - loss: 0.4240 - acc: 0.8310\n",
      "Epoch 114/200\n",
      "8000/8000 [==============================] - 0s 33us/step - loss: 0.4242 - acc: 0.8291\n",
      "Epoch 115/200\n",
      "8000/8000 [==============================] - 0s 36us/step - loss: 0.4262 - acc: 0.8306\n",
      "Epoch 116/200\n",
      "8000/8000 [==============================] - 0s 34us/step - loss: 0.4230 - acc: 0.8302\n",
      "Epoch 117/200\n",
      "8000/8000 [==============================] - 0s 36us/step - loss: 0.4269 - acc: 0.8284\n",
      "Epoch 118/200\n",
      "8000/8000 [==============================] - 0s 36us/step - loss: 0.4261 - acc: 0.8296\n",
      "Epoch 119/200\n",
      "8000/8000 [==============================] - 0s 37us/step - loss: 0.4255 - acc: 0.8311\n",
      "Epoch 120/200\n",
      "8000/8000 [==============================] - 0s 34us/step - loss: 0.4246 - acc: 0.8311\n",
      "Epoch 121/200\n",
      "8000/8000 [==============================] - 0s 33us/step - loss: 0.4233 - acc: 0.8285\n",
      "Epoch 122/200\n",
      "8000/8000 [==============================] - 0s 33us/step - loss: 0.4249 - acc: 0.8306\n",
      "Epoch 123/200\n",
      "8000/8000 [==============================] - 0s 33us/step - loss: 0.4248 - acc: 0.8312\n",
      "Epoch 124/200\n",
      "8000/8000 [==============================] - 0s 32us/step - loss: 0.4256 - acc: 0.8312\n",
      "Epoch 125/200\n",
      "8000/8000 [==============================] - 0s 33us/step - loss: 0.4221 - acc: 0.8309\n",
      "Epoch 126/200\n",
      "8000/8000 [==============================] - 0s 32us/step - loss: 0.4250 - acc: 0.8316\n",
      "Epoch 127/200\n",
      "8000/8000 [==============================] - 0s 32us/step - loss: 0.4237 - acc: 0.8312\n",
      "Epoch 128/200\n",
      "8000/8000 [==============================] - 0s 32us/step - loss: 0.4244 - acc: 0.8316\n",
      "Epoch 129/200\n",
      "8000/8000 [==============================] - 0s 33us/step - loss: 0.4230 - acc: 0.8305\n",
      "Epoch 130/200\n",
      "8000/8000 [==============================] - 0s 33us/step - loss: 0.4275 - acc: 0.8297\n",
      "Epoch 131/200\n",
      "8000/8000 [==============================] - 0s 34us/step - loss: 0.4239 - acc: 0.8289\n",
      "Epoch 132/200\n",
      "8000/8000 [==============================] - 0s 35us/step - loss: 0.4245 - acc: 0.8299\n",
      "Epoch 133/200\n",
      "8000/8000 [==============================] - 0s 34us/step - loss: 0.4221 - acc: 0.8310\n",
      "Epoch 134/200\n",
      "8000/8000 [==============================] - 0s 33us/step - loss: 0.4232 - acc: 0.8321\n",
      "Epoch 135/200\n",
      "8000/8000 [==============================] - 0s 34us/step - loss: 0.4220 - acc: 0.8326\n",
      "Epoch 136/200\n",
      "8000/8000 [==============================] - 0s 34us/step - loss: 0.4248 - acc: 0.8299\n",
      "Epoch 137/200\n",
      "8000/8000 [==============================] - 0s 33us/step - loss: 0.4247 - acc: 0.8302\n",
      "Epoch 138/200\n",
      "8000/8000 [==============================] - 0s 33us/step - loss: 0.4253 - acc: 0.8290\n",
      "Epoch 139/200\n",
      "8000/8000 [==============================] - 0s 34us/step - loss: 0.4258 - acc: 0.8309\n",
      "Epoch 140/200\n",
      "8000/8000 [==============================] - 0s 33us/step - loss: 0.4228 - acc: 0.8316\n",
      "Epoch 141/200\n",
      "8000/8000 [==============================] - 0s 34us/step - loss: 0.4225 - acc: 0.8287\n",
      "Epoch 142/200\n",
      "8000/8000 [==============================] - 0s 34us/step - loss: 0.4198 - acc: 0.8309\n",
      "Epoch 143/200\n",
      "8000/8000 [==============================] - 0s 34us/step - loss: 0.4273 - acc: 0.8329\n",
      "Epoch 144/200\n",
      "8000/8000 [==============================] - 0s 33us/step - loss: 0.4231 - acc: 0.8319\n",
      "Epoch 145/200\n",
      "8000/8000 [==============================] - 0s 33us/step - loss: 0.4254 - acc: 0.8305\n",
      "Epoch 146/200\n",
      "8000/8000 [==============================] - 0s 33us/step - loss: 0.4248 - acc: 0.8307\n",
      "Epoch 147/200\n",
      "8000/8000 [==============================] - 0s 33us/step - loss: 0.4233 - acc: 0.8309\n",
      "Epoch 148/200\n",
      "8000/8000 [==============================] - 0s 34us/step - loss: 0.4267 - acc: 0.8314\n",
      "Epoch 149/200\n",
      "8000/8000 [==============================] - 0s 34us/step - loss: 0.4231 - acc: 0.8321\n",
      "Epoch 150/200\n",
      "8000/8000 [==============================] - 0s 34us/step - loss: 0.4249 - acc: 0.8317\n",
      "Epoch 151/200\n",
      "8000/8000 [==============================] - 0s 33us/step - loss: 0.4241 - acc: 0.8321\n",
      "Epoch 152/200\n",
      "8000/8000 [==============================] - 0s 33us/step - loss: 0.4243 - acc: 0.8307\n",
      "Epoch 153/200\n",
      "8000/8000 [==============================] - 0s 33us/step - loss: 0.4261 - acc: 0.8280\n",
      "Epoch 154/200\n",
      "8000/8000 [==============================] - 0s 33us/step - loss: 0.4246 - acc: 0.8305\n",
      "Epoch 155/200\n",
      "8000/8000 [==============================] - 0s 33us/step - loss: 0.4272 - acc: 0.8310\n",
      "Epoch 156/200\n",
      "8000/8000 [==============================] - 0s 34us/step - loss: 0.4233 - acc: 0.8302\n",
      "Epoch 157/200\n",
      "8000/8000 [==============================] - 0s 36us/step - loss: 0.4249 - acc: 0.8289\n",
      "Epoch 158/200\n",
      "8000/8000 [==============================] - 0s 39us/step - loss: 0.4261 - acc: 0.8315\n",
      "Epoch 159/200\n",
      "8000/8000 [==============================] - 0s 36us/step - loss: 0.4228 - acc: 0.8336\n",
      "Epoch 160/200\n",
      "8000/8000 [==============================] - 0s 34us/step - loss: 0.4245 - acc: 0.8319\n",
      "Epoch 161/200\n",
      "8000/8000 [==============================] - 0s 33us/step - loss: 0.4245 - acc: 0.8317\n",
      "Epoch 162/200\n",
      "8000/8000 [==============================] - 0s 33us/step - loss: 0.4227 - acc: 0.8307\n",
      "Epoch 163/200\n",
      "8000/8000 [==============================] - 0s 34us/step - loss: 0.4216 - acc: 0.8325\n",
      "Epoch 164/200\n"
     ]
    },
    {
     "name": "stdout",
     "output_type": "stream",
     "text": [
      "8000/8000 [==============================] - 0s 34us/step - loss: 0.4230 - acc: 0.8332\n",
      "Epoch 165/200\n",
      "8000/8000 [==============================] - 0s 34us/step - loss: 0.4234 - acc: 0.8304\n",
      "Epoch 166/200\n",
      "8000/8000 [==============================] - 0s 33us/step - loss: 0.4221 - acc: 0.8321\n",
      "Epoch 167/200\n",
      "8000/8000 [==============================] - 0s 33us/step - loss: 0.4207 - acc: 0.8336\n",
      "Epoch 168/200\n",
      "8000/8000 [==============================] - 0s 33us/step - loss: 0.4208 - acc: 0.8330\n",
      "Epoch 169/200\n",
      "8000/8000 [==============================] - 0s 33us/step - loss: 0.4238 - acc: 0.8329\n",
      "Epoch 170/200\n",
      "8000/8000 [==============================] - 0s 34us/step - loss: 0.4244 - acc: 0.8314\n",
      "Epoch 171/200\n",
      "8000/8000 [==============================] - 0s 33us/step - loss: 0.4262 - acc: 0.8306\n",
      "Epoch 172/200\n",
      "8000/8000 [==============================] - 0s 34us/step - loss: 0.4217 - acc: 0.8315\n",
      "Epoch 173/200\n",
      "8000/8000 [==============================] - 0s 34us/step - loss: 0.4224 - acc: 0.8315\n",
      "Epoch 174/200\n",
      "8000/8000 [==============================] - 0s 34us/step - loss: 0.4256 - acc: 0.8307\n",
      "Epoch 175/200\n",
      "8000/8000 [==============================] - 0s 34us/step - loss: 0.4210 - acc: 0.8320\n",
      "Epoch 176/200\n",
      "8000/8000 [==============================] - 0s 34us/step - loss: 0.4231 - acc: 0.8311\n",
      "Epoch 177/200\n",
      "8000/8000 [==============================] - 0s 34us/step - loss: 0.4227 - acc: 0.8320\n",
      "Epoch 178/200\n",
      "8000/8000 [==============================] - 0s 34us/step - loss: 0.4235 - acc: 0.8312\n",
      "Epoch 179/200\n",
      "8000/8000 [==============================] - 0s 34us/step - loss: 0.4249 - acc: 0.8311\n",
      "Epoch 180/200\n",
      "8000/8000 [==============================] - 0s 34us/step - loss: 0.4239 - acc: 0.8309\n",
      "Epoch 181/200\n",
      "8000/8000 [==============================] - 0s 34us/step - loss: 0.4248 - acc: 0.8306\n",
      "Epoch 182/200\n",
      "8000/8000 [==============================] - 0s 34us/step - loss: 0.4217 - acc: 0.8310\n",
      "Epoch 183/200\n",
      "8000/8000 [==============================] - 0s 34us/step - loss: 0.4244 - acc: 0.8309\n",
      "Epoch 184/200\n",
      "8000/8000 [==============================] - 0s 34us/step - loss: 0.4238 - acc: 0.8319\n",
      "Epoch 185/200\n",
      "8000/8000 [==============================] - 0s 33us/step - loss: 0.4256 - acc: 0.8315\n",
      "Epoch 186/200\n",
      "8000/8000 [==============================] - 0s 34us/step - loss: 0.4211 - acc: 0.8309\n",
      "Epoch 187/200\n",
      "8000/8000 [==============================] - 0s 34us/step - loss: 0.4227 - acc: 0.8324\n",
      "Epoch 188/200\n",
      "8000/8000 [==============================] - 0s 34us/step - loss: 0.4207 - acc: 0.8316\n",
      "Epoch 189/200\n",
      "8000/8000 [==============================] - 0s 34us/step - loss: 0.4214 - acc: 0.8309\n",
      "Epoch 190/200\n",
      "8000/8000 [==============================] - 0s 34us/step - loss: 0.4252 - acc: 0.8310\n",
      "Epoch 191/200\n",
      "8000/8000 [==============================] - 0s 35us/step - loss: 0.4219 - acc: 0.8320\n",
      "Epoch 192/200\n",
      "8000/8000 [==============================] - 0s 38us/step - loss: 0.4217 - acc: 0.8309\n",
      "Epoch 193/200\n",
      "8000/8000 [==============================] - 0s 37us/step - loss: 0.4271 - acc: 0.8309\n",
      "Epoch 194/200\n",
      "8000/8000 [==============================] - 0s 38us/step - loss: 0.4248 - acc: 0.8326\n",
      "Epoch 195/200\n",
      "8000/8000 [==============================] - 0s 35us/step - loss: 0.4238 - acc: 0.8311\n",
      "Epoch 196/200\n",
      "8000/8000 [==============================] - 0s 33us/step - loss: 0.4219 - acc: 0.8321\n",
      "Epoch 197/200\n",
      "8000/8000 [==============================] - 0s 34us/step - loss: 0.4237 - acc: 0.8317\n",
      "Epoch 198/200\n",
      "8000/8000 [==============================] - 0s 34us/step - loss: 0.4221 - acc: 0.8287\n",
      "Epoch 199/200\n",
      "8000/8000 [==============================] - 0s 33us/step - loss: 0.4218 - acc: 0.8325\n",
      "Epoch 200/200\n",
      "8000/8000 [==============================] - 0s 34us/step - loss: 0.4235 - acc: 0.8320\n"
     ]
    },
    {
     "data": {
      "text/plain": [
       "<keras.callbacks.History at 0x1a33398c88>"
      ]
     },
     "execution_count": 76,
     "metadata": {},
     "output_type": "execute_result"
    }
   ],
   "source": [
    "# fitting the ANN to the training set\n",
    "classifier.fit(X_train, y_train, batch_size=25, nb_epoch=200)"
   ]
  },
  {
   "cell_type": "code",
   "execution_count": 77,
   "metadata": {},
   "outputs": [],
   "source": [
    "y_pred = classifier.predict(X_test)"
   ]
  },
  {
   "cell_type": "code",
   "execution_count": 78,
   "metadata": {},
   "outputs": [],
   "source": [
    "y_pred = (y_pred>0.5)"
   ]
  },
  {
   "cell_type": "code",
   "execution_count": 79,
   "metadata": {},
   "outputs": [],
   "source": [
    "from sklearn.metrics import confusion_matrix, classification_report"
   ]
  },
  {
   "cell_type": "code",
   "execution_count": 80,
   "metadata": {},
   "outputs": [
    {
     "name": "stdout",
     "output_type": "stream",
     "text": [
      "             precision    recall  f1-score   support\n",
      "\n",
      "          0       0.84      0.97      0.90      1577\n",
      "          1       0.77      0.33      0.46       423\n",
      "\n",
      "avg / total       0.83      0.84      0.81      2000\n",
      "\n"
     ]
    }
   ],
   "source": [
    "print(classification_report(y_test, y_pred))"
   ]
  },
  {
   "cell_type": "code",
   "execution_count": 81,
   "metadata": {},
   "outputs": [
    {
     "name": "stdout",
     "output_type": "stream",
     "text": [
      "[[1535   42]\n",
      " [ 285  138]]\n"
     ]
    }
   ],
   "source": [
    "print(confusion_matrix(y_test, y_pred))"
   ]
  },
  {
   "cell_type": "code",
   "execution_count": 82,
   "metadata": {},
   "outputs": [],
   "source": [
    "from sklearn.model_selection import GridSearchCV"
   ]
  },
  {
   "cell_type": "markdown",
   "metadata": {},
   "source": [
    "\"\"\"Predict if the customer with the following informations will leave the bank:\n",
    "Geography: France.\n",
    "Credit Score: 600.\n",
    "Gender: Male.\n",
    "Age: 40.\n",
    "Tenure: 3.\n",
    "Balance: 60000.\n",
    "Number of Products: 2.\n",
    "Has Credit Card: Yes.\n",
    "Is Active Member: Yes.\n",
    "Estimated Salary: 50000\"\"\""
   ]
  },
  {
   "cell_type": "code",
   "execution_count": 83,
   "metadata": {},
   "outputs": [
    {
     "name": "stderr",
     "output_type": "stream",
     "text": [
      "/Users/sudeng/anaconda3/lib/python3.7/site-packages/sklearn/utils/validation.py:475: DataConversionWarning: Data with input dtype int64 was converted to float64 by StandardScaler.\n",
      "  warnings.warn(msg, DataConversionWarning)\n"
     ]
    }
   ],
   "source": [
    "new_predictions = classifier.predict(sc.transform(np.array([[0, 0, 600, 1, 40, 3, 60000, 2, 1, 1, 50000]])))"
   ]
  },
  {
   "cell_type": "code",
   "execution_count": 84,
   "metadata": {},
   "outputs": [],
   "source": [
    "new_predictions = (new_predictions > 0.5)"
   ]
  },
  {
   "cell_type": "code",
   "execution_count": 85,
   "metadata": {},
   "outputs": [
    {
     "data": {
      "text/plain": [
       "array([[False]])"
      ]
     },
     "execution_count": 85,
     "metadata": {},
     "output_type": "execute_result"
    }
   ],
   "source": [
    "new_predictions"
   ]
  },
  {
   "cell_type": "code",
   "execution_count": 86,
   "metadata": {},
   "outputs": [],
   "source": [
    "# the customer doesn't leave the bank"
   ]
  },
  {
   "cell_type": "code",
   "execution_count": null,
   "metadata": {},
   "outputs": [],
   "source": []
  }
 ],
 "metadata": {
  "kernelspec": {
   "display_name": "Python 3",
   "language": "python",
   "name": "python3"
  },
  "language_info": {
   "codemirror_mode": {
    "name": "ipython",
    "version": 3
   },
   "file_extension": ".py",
   "mimetype": "text/x-python",
   "name": "python",
   "nbconvert_exporter": "python",
   "pygments_lexer": "ipython3",
   "version": "3.7.1"
  }
 },
 "nbformat": 4,
 "nbformat_minor": 2
}
