{
 "cells": [
  {
   "cell_type": "code",
   "execution_count": 1,
   "metadata": {},
   "outputs": [
    {
     "name": "stderr",
     "output_type": "stream",
     "text": [
      "/Users/sudeng/anaconda3/lib/python3.7/importlib/_bootstrap.py:219: RuntimeWarning: compiletime version 3.6 of module 'tensorflow.python.framework.fast_tensor_util' does not match runtime version 3.7\n",
      "  return f(*args, **kwds)\n"
     ]
    }
   ],
   "source": [
    "import pandas as pd\n",
    "import numpy as np\n",
    "import seaborn as sns\n",
    "import matplotlib.pyplot as plt\n",
    "%matplotlib inline\n",
    "import tensorflow as tf"
   ]
  },
  {
   "cell_type": "code",
   "execution_count": 2,
   "metadata": {},
   "outputs": [],
   "source": [
    "housing = pd.read_csv('cal_housing_clean.csv')"
   ]
  },
  {
   "cell_type": "code",
   "execution_count": 3,
   "metadata": {},
   "outputs": [
    {
     "data": {
      "text/html": [
       "<div>\n",
       "<style scoped>\n",
       "    .dataframe tbody tr th:only-of-type {\n",
       "        vertical-align: middle;\n",
       "    }\n",
       "\n",
       "    .dataframe tbody tr th {\n",
       "        vertical-align: top;\n",
       "    }\n",
       "\n",
       "    .dataframe thead th {\n",
       "        text-align: right;\n",
       "    }\n",
       "</style>\n",
       "<table border=\"1\" class=\"dataframe\">\n",
       "  <thead>\n",
       "    <tr style=\"text-align: right;\">\n",
       "      <th></th>\n",
       "      <th>housingMedianAge</th>\n",
       "      <th>totalRooms</th>\n",
       "      <th>totalBedrooms</th>\n",
       "      <th>population</th>\n",
       "      <th>households</th>\n",
       "      <th>medianIncome</th>\n",
       "      <th>medianHouseValue</th>\n",
       "    </tr>\n",
       "  </thead>\n",
       "  <tbody>\n",
       "    <tr>\n",
       "      <th>0</th>\n",
       "      <td>41.0</td>\n",
       "      <td>880.0</td>\n",
       "      <td>129.0</td>\n",
       "      <td>322.0</td>\n",
       "      <td>126.0</td>\n",
       "      <td>8.3252</td>\n",
       "      <td>452600.0</td>\n",
       "    </tr>\n",
       "    <tr>\n",
       "      <th>1</th>\n",
       "      <td>21.0</td>\n",
       "      <td>7099.0</td>\n",
       "      <td>1106.0</td>\n",
       "      <td>2401.0</td>\n",
       "      <td>1138.0</td>\n",
       "      <td>8.3014</td>\n",
       "      <td>358500.0</td>\n",
       "    </tr>\n",
       "    <tr>\n",
       "      <th>2</th>\n",
       "      <td>52.0</td>\n",
       "      <td>1467.0</td>\n",
       "      <td>190.0</td>\n",
       "      <td>496.0</td>\n",
       "      <td>177.0</td>\n",
       "      <td>7.2574</td>\n",
       "      <td>352100.0</td>\n",
       "    </tr>\n",
       "    <tr>\n",
       "      <th>3</th>\n",
       "      <td>52.0</td>\n",
       "      <td>1274.0</td>\n",
       "      <td>235.0</td>\n",
       "      <td>558.0</td>\n",
       "      <td>219.0</td>\n",
       "      <td>5.6431</td>\n",
       "      <td>341300.0</td>\n",
       "    </tr>\n",
       "    <tr>\n",
       "      <th>4</th>\n",
       "      <td>52.0</td>\n",
       "      <td>1627.0</td>\n",
       "      <td>280.0</td>\n",
       "      <td>565.0</td>\n",
       "      <td>259.0</td>\n",
       "      <td>3.8462</td>\n",
       "      <td>342200.0</td>\n",
       "    </tr>\n",
       "  </tbody>\n",
       "</table>\n",
       "</div>"
      ],
      "text/plain": [
       "   housingMedianAge  totalRooms  totalBedrooms  population  households  \\\n",
       "0              41.0       880.0          129.0       322.0       126.0   \n",
       "1              21.0      7099.0         1106.0      2401.0      1138.0   \n",
       "2              52.0      1467.0          190.0       496.0       177.0   \n",
       "3              52.0      1274.0          235.0       558.0       219.0   \n",
       "4              52.0      1627.0          280.0       565.0       259.0   \n",
       "\n",
       "   medianIncome  medianHouseValue  \n",
       "0        8.3252          452600.0  \n",
       "1        8.3014          358500.0  \n",
       "2        7.2574          352100.0  \n",
       "3        5.6431          341300.0  \n",
       "4        3.8462          342200.0  "
      ]
     },
     "execution_count": 3,
     "metadata": {},
     "output_type": "execute_result"
    }
   ],
   "source": [
    "housing.head()"
   ]
  },
  {
   "cell_type": "code",
   "execution_count": 24,
   "metadata": {},
   "outputs": [
    {
     "data": {
      "text/plain": [
       "count     20640.000000\n",
       "mean     206855.816909\n",
       "std      115395.615874\n",
       "min       14999.000000\n",
       "25%      119600.000000\n",
       "50%      179700.000000\n",
       "75%      264725.000000\n",
       "max      500001.000000\n",
       "Name: medianHouseValue, dtype: float64"
      ]
     },
     "execution_count": 24,
     "metadata": {},
     "output_type": "execute_result"
    }
   ],
   "source": [
    "housing['medianHouseValue'].describe()"
   ]
  },
  {
   "cell_type": "code",
   "execution_count": 4,
   "metadata": {},
   "outputs": [],
   "source": [
    "y_val = housing['medianHouseValue']\n",
    "x_data = housing.drop('medianHouseValue', axis=1)"
   ]
  },
  {
   "cell_type": "code",
   "execution_count": 5,
   "metadata": {},
   "outputs": [],
   "source": [
    "from sklearn.model_selection import train_test_split"
   ]
  },
  {
   "cell_type": "code",
   "execution_count": 6,
   "metadata": {},
   "outputs": [],
   "source": [
    "x_train, x_test, y_train, y_test = train_test_split(x_data, y_val, test_size=0.3, random_state=101)"
   ]
  },
  {
   "cell_type": "code",
   "execution_count": 7,
   "metadata": {},
   "outputs": [],
   "source": [
    "from sklearn.preprocessing import MinMaxScaler"
   ]
  },
  {
   "cell_type": "code",
   "execution_count": 8,
   "metadata": {},
   "outputs": [],
   "source": [
    "scaler = MinMaxScaler()"
   ]
  },
  {
   "cell_type": "code",
   "execution_count": 9,
   "metadata": {},
   "outputs": [
    {
     "data": {
      "text/plain": [
       "MinMaxScaler(copy=True, feature_range=(0, 1))"
      ]
     },
     "execution_count": 9,
     "metadata": {},
     "output_type": "execute_result"
    }
   ],
   "source": [
    "scaler.fit(x_train)"
   ]
  },
  {
   "cell_type": "code",
   "execution_count": 10,
   "metadata": {},
   "outputs": [],
   "source": [
    "x_train = pd.DataFrame(data=scaler.transform(x_train), columns=x_train.columns, index=x_train.index)"
   ]
  },
  {
   "cell_type": "code",
   "execution_count": 11,
   "metadata": {},
   "outputs": [],
   "source": [
    "x_test = pd.DataFrame(data=scaler.transform(x_test), columns=x_test.columns, index=x_test.index)"
   ]
  },
  {
   "cell_type": "code",
   "execution_count": 12,
   "metadata": {},
   "outputs": [
    {
     "data": {
      "text/plain": [
       "Index(['housingMedianAge', 'totalRooms', 'totalBedrooms', 'population',\n",
       "       'households', 'medianIncome', 'medianHouseValue'],\n",
       "      dtype='object')"
      ]
     },
     "execution_count": 12,
     "metadata": {},
     "output_type": "execute_result"
    }
   ],
   "source": [
    "housing.columns"
   ]
  },
  {
   "cell_type": "code",
   "execution_count": 13,
   "metadata": {},
   "outputs": [],
   "source": [
    "age = tf.feature_column.numeric_column('housingMedianAge')\n",
    "rooms = tf.feature_column.numeric_column('totalRooms')\n",
    "bedrooms = tf.feature_column.numeric_column('totalBedrooms')\n",
    "pop = tf.feature_column.numeric_column('population')\n",
    "households = tf.feature_column.numeric_column('households')\n",
    "income = tf.feature_column.numeric_column('medianIncome')"
   ]
  },
  {
   "cell_type": "code",
   "execution_count": 14,
   "metadata": {},
   "outputs": [],
   "source": [
    "feat_cols = [age, rooms, bedrooms, pop, households, income]"
   ]
  },
  {
   "cell_type": "code",
   "execution_count": 15,
   "metadata": {},
   "outputs": [],
   "source": [
    "input_func = tf.estimator.inputs.pandas_input_fn(x=x_train, y=y_train, batch_size=10, num_epochs=1000, shuffle=True)"
   ]
  },
  {
   "cell_type": "code",
   "execution_count": 16,
   "metadata": {},
   "outputs": [
    {
     "name": "stdout",
     "output_type": "stream",
     "text": [
      "INFO:tensorflow:Using default config.\n",
      "WARNING:tensorflow:Using temporary folder as model directory: /var/folders/lt/qq0brrs93z944jjf5v_r23kh0000gn/T/tmp0dh7nu4e\n",
      "INFO:tensorflow:Using config: {'_model_dir': '/var/folders/lt/qq0brrs93z944jjf5v_r23kh0000gn/T/tmp0dh7nu4e', '_tf_random_seed': None, '_save_summary_steps': 100, '_save_checkpoints_steps': None, '_save_checkpoints_secs': 600, '_session_config': None, '_keep_checkpoint_max': 5, '_keep_checkpoint_every_n_hours': 10000, '_log_step_count_steps': 100, '_train_distribute': None, '_service': None, '_cluster_spec': <tensorflow.python.training.server_lib.ClusterSpec object at 0x1a30b03b70>, '_task_type': 'worker', '_task_id': 0, '_global_id_in_cluster': 0, '_master': '', '_evaluation_master': '', '_is_chief': True, '_num_ps_replicas': 0, '_num_worker_replicas': 1}\n"
     ]
    }
   ],
   "source": [
    "model = tf.estimator.DNNRegressor(hidden_units=[6, 6, 6], feature_columns=feat_cols)"
   ]
  },
  {
   "cell_type": "code",
   "execution_count": 17,
   "metadata": {},
   "outputs": [
    {
     "name": "stdout",
     "output_type": "stream",
     "text": [
      "INFO:tensorflow:Calling model_fn.\n",
      "INFO:tensorflow:Done calling model_fn.\n",
      "INFO:tensorflow:Create CheckpointSaverHook.\n",
      "INFO:tensorflow:Graph was finalized.\n",
      "INFO:tensorflow:Running local_init_op.\n",
      "INFO:tensorflow:Done running local_init_op.\n",
      "INFO:tensorflow:Saving checkpoints for 1 into /var/folders/lt/qq0brrs93z944jjf5v_r23kh0000gn/T/tmp0dh7nu4e/model.ckpt.\n",
      "INFO:tensorflow:loss = 509435970000.0, step = 1\n",
      "INFO:tensorflow:global_step/sec: 549.415\n",
      "INFO:tensorflow:loss = 288429900000.0, step = 101 (0.186 sec)\n",
      "INFO:tensorflow:global_step/sec: 845.208\n",
      "INFO:tensorflow:loss = 681854900000.0, step = 201 (0.116 sec)\n",
      "INFO:tensorflow:global_step/sec: 973.918\n",
      "INFO:tensorflow:loss = 710868340000.0, step = 301 (0.102 sec)\n",
      "INFO:tensorflow:global_step/sec: 871.603\n",
      "INFO:tensorflow:loss = 714038600000.0, step = 401 (0.115 sec)\n",
      "INFO:tensorflow:global_step/sec: 772.906\n",
      "INFO:tensorflow:loss = 599051860000.0, step = 501 (0.130 sec)\n",
      "INFO:tensorflow:global_step/sec: 869.951\n",
      "INFO:tensorflow:loss = 820708000000.0, step = 601 (0.114 sec)\n",
      "INFO:tensorflow:global_step/sec: 945.474\n",
      "INFO:tensorflow:loss = 255570020000.0, step = 701 (0.106 sec)\n",
      "INFO:tensorflow:global_step/sec: 864.438\n",
      "INFO:tensorflow:loss = 261064980000.0, step = 801 (0.115 sec)\n",
      "INFO:tensorflow:global_step/sec: 924.548\n",
      "INFO:tensorflow:loss = 390659000000.0, step = 901 (0.108 sec)\n",
      "INFO:tensorflow:global_step/sec: 892.77\n",
      "INFO:tensorflow:loss = 287952700000.0, step = 1001 (0.112 sec)\n",
      "INFO:tensorflow:global_step/sec: 927.633\n",
      "INFO:tensorflow:loss = 337717660000.0, step = 1101 (0.107 sec)\n",
      "INFO:tensorflow:global_step/sec: 944.37\n",
      "INFO:tensorflow:loss = 227872030000.0, step = 1201 (0.107 sec)\n",
      "INFO:tensorflow:global_step/sec: 893.624\n",
      "INFO:tensorflow:loss = 151616570000.0, step = 1301 (0.112 sec)\n",
      "INFO:tensorflow:global_step/sec: 860.598\n",
      "INFO:tensorflow:loss = 198720650000.0, step = 1401 (0.117 sec)\n",
      "INFO:tensorflow:global_step/sec: 970.987\n",
      "INFO:tensorflow:loss = 65451303000.0, step = 1501 (0.102 sec)\n",
      "INFO:tensorflow:global_step/sec: 966.962\n",
      "INFO:tensorflow:loss = 116895560000.0, step = 1601 (0.104 sec)\n",
      "INFO:tensorflow:global_step/sec: 947.885\n",
      "INFO:tensorflow:loss = 172631130000.0, step = 1701 (0.106 sec)\n",
      "INFO:tensorflow:global_step/sec: 748.161\n",
      "INFO:tensorflow:loss = 122078044000.0, step = 1801 (0.133 sec)\n",
      "INFO:tensorflow:global_step/sec: 846.941\n",
      "INFO:tensorflow:loss = 170363100000.0, step = 1901 (0.119 sec)\n",
      "INFO:tensorflow:global_step/sec: 938.968\n",
      "INFO:tensorflow:loss = 193704950000.0, step = 2001 (0.106 sec)\n",
      "INFO:tensorflow:global_step/sec: 745.366\n",
      "INFO:tensorflow:loss = 108946416000.0, step = 2101 (0.135 sec)\n",
      "INFO:tensorflow:global_step/sec: 785.418\n",
      "INFO:tensorflow:loss = 70811920000.0, step = 2201 (0.127 sec)\n",
      "INFO:tensorflow:global_step/sec: 955.784\n",
      "INFO:tensorflow:loss = 141926650000.0, step = 2301 (0.104 sec)\n",
      "INFO:tensorflow:global_step/sec: 925.266\n",
      "INFO:tensorflow:loss = 118769890000.0, step = 2401 (0.108 sec)\n",
      "INFO:tensorflow:global_step/sec: 894.903\n",
      "INFO:tensorflow:loss = 113855300000.0, step = 2501 (0.113 sec)\n",
      "INFO:tensorflow:global_step/sec: 973.502\n",
      "INFO:tensorflow:loss = 89587450000.0, step = 2601 (0.102 sec)\n",
      "INFO:tensorflow:global_step/sec: 930.812\n",
      "INFO:tensorflow:loss = 44282974000.0, step = 2701 (0.109 sec)\n",
      "INFO:tensorflow:global_step/sec: 910.125\n",
      "INFO:tensorflow:loss = 59471057000.0, step = 2801 (0.109 sec)\n",
      "INFO:tensorflow:global_step/sec: 920.437\n",
      "INFO:tensorflow:loss = 73426730000.0, step = 2901 (0.109 sec)\n",
      "INFO:tensorflow:global_step/sec: 980.573\n",
      "INFO:tensorflow:loss = 65759674000.0, step = 3001 (0.103 sec)\n",
      "INFO:tensorflow:global_step/sec: 961.751\n",
      "INFO:tensorflow:loss = 157369430000.0, step = 3101 (0.103 sec)\n",
      "INFO:tensorflow:global_step/sec: 919.092\n",
      "INFO:tensorflow:loss = 66072257000.0, step = 3201 (0.108 sec)\n",
      "INFO:tensorflow:global_step/sec: 950.589\n",
      "INFO:tensorflow:loss = 179780570000.0, step = 3301 (0.106 sec)\n",
      "INFO:tensorflow:global_step/sec: 953.355\n",
      "INFO:tensorflow:loss = 70707500000.0, step = 3401 (0.104 sec)\n",
      "INFO:tensorflow:global_step/sec: 930.352\n",
      "INFO:tensorflow:loss = 64075375000.0, step = 3501 (0.108 sec)\n",
      "INFO:tensorflow:global_step/sec: 922.016\n",
      "INFO:tensorflow:loss = 88177340000.0, step = 3601 (0.108 sec)\n",
      "INFO:tensorflow:global_step/sec: 964.842\n",
      "INFO:tensorflow:loss = 54174917000.0, step = 3701 (0.105 sec)\n",
      "INFO:tensorflow:global_step/sec: 937.593\n",
      "INFO:tensorflow:loss = 165047760000.0, step = 3801 (0.106 sec)\n",
      "INFO:tensorflow:global_step/sec: 923.849\n",
      "INFO:tensorflow:loss = 81150930000.0, step = 3901 (0.107 sec)\n",
      "INFO:tensorflow:global_step/sec: 928.883\n",
      "INFO:tensorflow:loss = 133883675000.0, step = 4001 (0.108 sec)\n",
      "INFO:tensorflow:global_step/sec: 943.085\n",
      "INFO:tensorflow:loss = 106502580000.0, step = 4101 (0.106 sec)\n",
      "INFO:tensorflow:global_step/sec: 860.926\n",
      "INFO:tensorflow:loss = 109873800000.0, step = 4201 (0.117 sec)\n",
      "INFO:tensorflow:global_step/sec: 973.339\n",
      "INFO:tensorflow:loss = 93553470000.0, step = 4301 (0.103 sec)\n",
      "INFO:tensorflow:global_step/sec: 927.574\n",
      "INFO:tensorflow:loss = 51532520000.0, step = 4401 (0.107 sec)\n",
      "INFO:tensorflow:global_step/sec: 940.505\n",
      "INFO:tensorflow:loss = 74269794000.0, step = 4501 (0.105 sec)\n",
      "INFO:tensorflow:global_step/sec: 951.711\n",
      "INFO:tensorflow:loss = 65697743000.0, step = 4601 (0.106 sec)\n",
      "INFO:tensorflow:global_step/sec: 970.243\n",
      "INFO:tensorflow:loss = 70511436000.0, step = 4701 (0.102 sec)\n",
      "INFO:tensorflow:global_step/sec: 906.602\n",
      "INFO:tensorflow:loss = 56766222000.0, step = 4801 (0.111 sec)\n",
      "INFO:tensorflow:global_step/sec: 882.012\n",
      "INFO:tensorflow:loss = 67843326000.0, step = 4901 (0.114 sec)\n",
      "INFO:tensorflow:global_step/sec: 898.328\n",
      "INFO:tensorflow:loss = 27005400000.0, step = 5001 (0.110 sec)\n",
      "INFO:tensorflow:global_step/sec: 935.786\n",
      "INFO:tensorflow:loss = 37370753000.0, step = 5101 (0.106 sec)\n",
      "INFO:tensorflow:global_step/sec: 956.113\n",
      "INFO:tensorflow:loss = 84318860000.0, step = 5201 (0.105 sec)\n",
      "INFO:tensorflow:global_step/sec: 981.135\n",
      "INFO:tensorflow:loss = 90348855000.0, step = 5301 (0.101 sec)\n",
      "INFO:tensorflow:global_step/sec: 906.428\n",
      "INFO:tensorflow:loss = 51201896000.0, step = 5401 (0.112 sec)\n",
      "INFO:tensorflow:global_step/sec: 909.967\n",
      "INFO:tensorflow:loss = 128621265000.0, step = 5501 (0.110 sec)\n",
      "INFO:tensorflow:global_step/sec: 970.291\n",
      "INFO:tensorflow:loss = 155494070000.0, step = 5601 (0.103 sec)\n",
      "INFO:tensorflow:global_step/sec: 939.399\n",
      "INFO:tensorflow:loss = 64486326000.0, step = 5701 (0.106 sec)\n",
      "INFO:tensorflow:global_step/sec: 959.005\n",
      "INFO:tensorflow:loss = 61368263000.0, step = 5801 (0.104 sec)\n",
      "INFO:tensorflow:global_step/sec: 969.658\n",
      "INFO:tensorflow:loss = 54351050000.0, step = 5901 (0.103 sec)\n",
      "INFO:tensorflow:global_step/sec: 917.431\n",
      "INFO:tensorflow:loss = 153685690000.0, step = 6001 (0.108 sec)\n",
      "INFO:tensorflow:global_step/sec: 965.408\n",
      "INFO:tensorflow:loss = 140711330000.0, step = 6101 (0.105 sec)\n",
      "INFO:tensorflow:global_step/sec: 912.541\n",
      "INFO:tensorflow:loss = 52437082000.0, step = 6201 (0.110 sec)\n",
      "INFO:tensorflow:global_step/sec: 946.729\n",
      "INFO:tensorflow:loss = 81033170000.0, step = 6301 (0.105 sec)\n",
      "INFO:tensorflow:global_step/sec: 909.064\n",
      "INFO:tensorflow:loss = 163734010000.0, step = 6401 (0.109 sec)\n",
      "INFO:tensorflow:global_step/sec: 756.173\n",
      "INFO:tensorflow:loss = 119857010000.0, step = 6501 (0.134 sec)\n",
      "INFO:tensorflow:global_step/sec: 723.269\n",
      "INFO:tensorflow:loss = 129127230000.0, step = 6601 (0.137 sec)\n",
      "INFO:tensorflow:global_step/sec: 902.896\n",
      "INFO:tensorflow:loss = 59984118000.0, step = 6701 (0.110 sec)\n",
      "INFO:tensorflow:global_step/sec: 872.888\n",
      "INFO:tensorflow:loss = 90349680000.0, step = 6801 (0.116 sec)\n",
      "INFO:tensorflow:global_step/sec: 779.776\n",
      "INFO:tensorflow:loss = 56944456000.0, step = 6901 (0.128 sec)\n",
      "INFO:tensorflow:global_step/sec: 882.809\n",
      "INFO:tensorflow:loss = 87538940000.0, step = 7001 (0.114 sec)\n",
      "INFO:tensorflow:global_step/sec: 922.602\n",
      "INFO:tensorflow:loss = 98604650000.0, step = 7101 (0.108 sec)\n",
      "INFO:tensorflow:global_step/sec: 920.04\n",
      "INFO:tensorflow:loss = 108021110000.0, step = 7201 (0.108 sec)\n",
      "INFO:tensorflow:global_step/sec: 940.043\n",
      "INFO:tensorflow:loss = 91406780000.0, step = 7301 (0.106 sec)\n",
      "INFO:tensorflow:global_step/sec: 915.383\n",
      "INFO:tensorflow:loss = 50782794000.0, step = 7401 (0.110 sec)\n",
      "INFO:tensorflow:global_step/sec: 953.797\n",
      "INFO:tensorflow:loss = 94619440000.0, step = 7501 (0.106 sec)\n",
      "INFO:tensorflow:global_step/sec: 932.608\n"
     ]
    },
    {
     "name": "stdout",
     "output_type": "stream",
     "text": [
      "INFO:tensorflow:loss = 148468730000.0, step = 7601 (0.106 sec)\n",
      "INFO:tensorflow:global_step/sec: 943.469\n",
      "INFO:tensorflow:loss = 91815300000.0, step = 7701 (0.106 sec)\n",
      "INFO:tensorflow:global_step/sec: 952.725\n",
      "INFO:tensorflow:loss = 119120650000.0, step = 7801 (0.106 sec)\n",
      "INFO:tensorflow:global_step/sec: 973.882\n",
      "INFO:tensorflow:loss = 108971745000.0, step = 7901 (0.103 sec)\n",
      "INFO:tensorflow:global_step/sec: 881.545\n",
      "INFO:tensorflow:loss = 189620060000.0, step = 8001 (0.112 sec)\n",
      "INFO:tensorflow:global_step/sec: 913.117\n",
      "INFO:tensorflow:loss = 96436240000.0, step = 8101 (0.110 sec)\n",
      "INFO:tensorflow:global_step/sec: 936.848\n",
      "INFO:tensorflow:loss = 83957550000.0, step = 8201 (0.107 sec)\n",
      "INFO:tensorflow:global_step/sec: 977.898\n",
      "INFO:tensorflow:loss = 54108710000.0, step = 8301 (0.103 sec)\n",
      "INFO:tensorflow:global_step/sec: 933.655\n",
      "INFO:tensorflow:loss = 87369870000.0, step = 8401 (0.107 sec)\n",
      "INFO:tensorflow:global_step/sec: 968.091\n",
      "INFO:tensorflow:loss = 108418195000.0, step = 8501 (0.103 sec)\n",
      "INFO:tensorflow:global_step/sec: 955.566\n",
      "INFO:tensorflow:loss = 80433970000.0, step = 8601 (0.105 sec)\n",
      "INFO:tensorflow:global_step/sec: 951.141\n",
      "INFO:tensorflow:loss = 55840305000.0, step = 8701 (0.106 sec)\n",
      "INFO:tensorflow:global_step/sec: 955.806\n",
      "INFO:tensorflow:loss = 139257220000.0, step = 8801 (0.103 sec)\n",
      "INFO:tensorflow:global_step/sec: 982.068\n",
      "INFO:tensorflow:loss = 205739590000.0, step = 8901 (0.103 sec)\n",
      "INFO:tensorflow:global_step/sec: 966.732\n",
      "INFO:tensorflow:loss = 83265920000.0, step = 9001 (0.102 sec)\n",
      "INFO:tensorflow:global_step/sec: 936.084\n",
      "INFO:tensorflow:loss = 107642320000.0, step = 9101 (0.107 sec)\n",
      "INFO:tensorflow:global_step/sec: 1001.37\n",
      "INFO:tensorflow:loss = 104258030000.0, step = 9201 (0.101 sec)\n",
      "INFO:tensorflow:global_step/sec: 962.091\n",
      "INFO:tensorflow:loss = 56160723000.0, step = 9301 (0.103 sec)\n",
      "INFO:tensorflow:global_step/sec: 964.19\n",
      "INFO:tensorflow:loss = 173968440000.0, step = 9401 (0.104 sec)\n",
      "INFO:tensorflow:global_step/sec: 959.123\n",
      "INFO:tensorflow:loss = 135679260000.0, step = 9501 (0.105 sec)\n",
      "INFO:tensorflow:global_step/sec: 934.885\n",
      "INFO:tensorflow:loss = 164126200000.0, step = 9601 (0.106 sec)\n",
      "INFO:tensorflow:global_step/sec: 932.81\n",
      "INFO:tensorflow:loss = 97679260000.0, step = 9701 (0.108 sec)\n",
      "INFO:tensorflow:global_step/sec: 973.17\n",
      "INFO:tensorflow:loss = 92366780000.0, step = 9801 (0.104 sec)\n",
      "INFO:tensorflow:global_step/sec: 903.147\n",
      "INFO:tensorflow:loss = 6216122400.0, step = 9901 (0.110 sec)\n",
      "INFO:tensorflow:global_step/sec: 987.362\n",
      "INFO:tensorflow:loss = 112276960000.0, step = 10001 (0.102 sec)\n",
      "INFO:tensorflow:global_step/sec: 944.984\n",
      "INFO:tensorflow:loss = 205043680000.0, step = 10101 (0.104 sec)\n",
      "INFO:tensorflow:global_step/sec: 995.359\n",
      "INFO:tensorflow:loss = 39442450000.0, step = 10201 (0.101 sec)\n",
      "INFO:tensorflow:global_step/sec: 961.641\n",
      "INFO:tensorflow:loss = 125454810000.0, step = 10301 (0.105 sec)\n",
      "INFO:tensorflow:global_step/sec: 917.658\n",
      "INFO:tensorflow:loss = 70174530000.0, step = 10401 (0.107 sec)\n",
      "INFO:tensorflow:global_step/sec: 988.414\n",
      "INFO:tensorflow:loss = 188101950000.0, step = 10501 (0.102 sec)\n",
      "INFO:tensorflow:global_step/sec: 962.029\n",
      "INFO:tensorflow:loss = 196809880000.0, step = 10601 (0.104 sec)\n",
      "INFO:tensorflow:global_step/sec: 960.118\n",
      "INFO:tensorflow:loss = 77047054000.0, step = 10701 (0.105 sec)\n",
      "INFO:tensorflow:global_step/sec: 962.122\n",
      "INFO:tensorflow:loss = 82336410000.0, step = 10801 (0.104 sec)\n",
      "INFO:tensorflow:global_step/sec: 970.722\n",
      "INFO:tensorflow:loss = 184921800000.0, step = 10901 (0.102 sec)\n",
      "INFO:tensorflow:global_step/sec: 919.253\n",
      "INFO:tensorflow:loss = 72784070000.0, step = 11001 (0.109 sec)\n",
      "INFO:tensorflow:global_step/sec: 973.814\n",
      "INFO:tensorflow:loss = 51017330000.0, step = 11101 (0.103 sec)\n",
      "INFO:tensorflow:global_step/sec: 956.51\n",
      "INFO:tensorflow:loss = 60101220000.0, step = 11201 (0.104 sec)\n",
      "INFO:tensorflow:global_step/sec: 957.532\n",
      "INFO:tensorflow:loss = 162430880000.0, step = 11301 (0.105 sec)\n",
      "INFO:tensorflow:global_step/sec: 955.986\n",
      "INFO:tensorflow:loss = 54547055000.0, step = 11401 (0.105 sec)\n",
      "INFO:tensorflow:global_step/sec: 959.231\n",
      "INFO:tensorflow:loss = 158251910000.0, step = 11501 (0.103 sec)\n",
      "INFO:tensorflow:global_step/sec: 930.356\n",
      "INFO:tensorflow:loss = 98229010000.0, step = 11601 (0.108 sec)\n",
      "INFO:tensorflow:global_step/sec: 980.509\n",
      "INFO:tensorflow:loss = 137127125000.0, step = 11701 (0.102 sec)\n",
      "INFO:tensorflow:global_step/sec: 892.665\n",
      "INFO:tensorflow:loss = 89947370000.0, step = 11801 (0.113 sec)\n",
      "INFO:tensorflow:global_step/sec: 949.468\n",
      "INFO:tensorflow:loss = 65954350000.0, step = 11901 (0.104 sec)\n",
      "INFO:tensorflow:global_step/sec: 956.608\n",
      "INFO:tensorflow:loss = 149070360000.0, step = 12001 (0.105 sec)\n",
      "INFO:tensorflow:global_step/sec: 952.363\n",
      "INFO:tensorflow:loss = 21782424000.0, step = 12101 (0.106 sec)\n",
      "INFO:tensorflow:global_step/sec: 951.711\n",
      "INFO:tensorflow:loss = 85440810000.0, step = 12201 (0.104 sec)\n",
      "INFO:tensorflow:global_step/sec: 941.628\n",
      "INFO:tensorflow:loss = 66651374000.0, step = 12301 (0.106 sec)\n",
      "INFO:tensorflow:global_step/sec: 947.831\n",
      "INFO:tensorflow:loss = 40969437000.0, step = 12401 (0.105 sec)\n",
      "INFO:tensorflow:global_step/sec: 928.023\n",
      "INFO:tensorflow:loss = 91839480000.0, step = 12501 (0.108 sec)\n",
      "INFO:tensorflow:global_step/sec: 965.297\n",
      "INFO:tensorflow:loss = 78040360000.0, step = 12601 (0.103 sec)\n",
      "INFO:tensorflow:global_step/sec: 931.618\n",
      "INFO:tensorflow:loss = 28403466000.0, step = 12701 (0.109 sec)\n",
      "INFO:tensorflow:global_step/sec: 738.651\n",
      "INFO:tensorflow:loss = 117583544000.0, step = 12801 (0.134 sec)\n",
      "INFO:tensorflow:global_step/sec: 980.152\n",
      "INFO:tensorflow:loss = 60741313000.0, step = 12901 (0.103 sec)\n",
      "INFO:tensorflow:global_step/sec: 942.979\n",
      "INFO:tensorflow:loss = 121764430000.0, step = 13001 (0.105 sec)\n",
      "INFO:tensorflow:global_step/sec: 963.103\n",
      "INFO:tensorflow:loss = 188402220000.0, step = 13101 (0.104 sec)\n",
      "INFO:tensorflow:global_step/sec: 940.024\n",
      "INFO:tensorflow:loss = 48538090000.0, step = 13201 (0.106 sec)\n",
      "INFO:tensorflow:global_step/sec: 940.374\n",
      "INFO:tensorflow:loss = 152859260000.0, step = 13301 (0.106 sec)\n",
      "INFO:tensorflow:global_step/sec: 792.115\n",
      "INFO:tensorflow:loss = 200612510000.0, step = 13401 (0.126 sec)\n",
      "INFO:tensorflow:global_step/sec: 1000.64\n",
      "INFO:tensorflow:loss = 147549500000.0, step = 13501 (0.101 sec)\n",
      "INFO:tensorflow:global_step/sec: 944.261\n",
      "INFO:tensorflow:loss = 111052190000.0, step = 13601 (0.105 sec)\n",
      "INFO:tensorflow:global_step/sec: 938.88\n",
      "INFO:tensorflow:loss = 99546510000.0, step = 13701 (0.107 sec)\n",
      "INFO:tensorflow:global_step/sec: 970.468\n",
      "INFO:tensorflow:loss = 141205010000.0, step = 13801 (0.102 sec)\n",
      "INFO:tensorflow:global_step/sec: 958.186\n",
      "INFO:tensorflow:loss = 83435800000.0, step = 13901 (0.105 sec)\n",
      "INFO:tensorflow:global_step/sec: 796.787\n",
      "INFO:tensorflow:loss = 68303274000.0, step = 14001 (0.126 sec)\n",
      "INFO:tensorflow:global_step/sec: 954.598\n",
      "INFO:tensorflow:loss = 30273331000.0, step = 14101 (0.105 sec)\n",
      "INFO:tensorflow:global_step/sec: 967.053\n",
      "INFO:tensorflow:loss = 128131170000.0, step = 14201 (0.103 sec)\n",
      "INFO:tensorflow:global_step/sec: 931.176\n",
      "INFO:tensorflow:loss = 100274910000.0, step = 14301 (0.107 sec)\n",
      "INFO:tensorflow:global_step/sec: 886.676\n",
      "INFO:tensorflow:loss = 47100715000.0, step = 14401 (0.113 sec)\n",
      "INFO:tensorflow:global_step/sec: 917.397\n",
      "INFO:tensorflow:loss = 125450280000.0, step = 14501 (0.109 sec)\n",
      "INFO:tensorflow:global_step/sec: 872.89\n",
      "INFO:tensorflow:loss = 63944890000.0, step = 14601 (0.115 sec)\n",
      "INFO:tensorflow:global_step/sec: 866.003\n",
      "INFO:tensorflow:loss = 110382020000.0, step = 14701 (0.116 sec)\n",
      "INFO:tensorflow:global_step/sec: 847.552\n",
      "INFO:tensorflow:loss = 96139790000.0, step = 14801 (0.118 sec)\n",
      "INFO:tensorflow:global_step/sec: 882.699\n",
      "INFO:tensorflow:loss = 231418860000.0, step = 14901 (0.113 sec)\n",
      "INFO:tensorflow:global_step/sec: 922.628\n",
      "INFO:tensorflow:loss = 197357860000.0, step = 15001 (0.108 sec)\n",
      "INFO:tensorflow:global_step/sec: 748.542\n",
      "INFO:tensorflow:loss = 131505090000.0, step = 15101 (0.134 sec)\n",
      "INFO:tensorflow:global_step/sec: 985.416\n",
      "INFO:tensorflow:loss = 50535907000.0, step = 15201 (0.101 sec)\n",
      "INFO:tensorflow:global_step/sec: 960.366\n",
      "INFO:tensorflow:loss = 51486835000.0, step = 15301 (0.104 sec)\n",
      "INFO:tensorflow:global_step/sec: 978.27\n",
      "INFO:tensorflow:loss = 86699310000.0, step = 15401 (0.103 sec)\n",
      "INFO:tensorflow:global_step/sec: 945.225\n"
     ]
    },
    {
     "name": "stdout",
     "output_type": "stream",
     "text": [
      "INFO:tensorflow:loss = 84752990000.0, step = 15501 (0.105 sec)\n",
      "INFO:tensorflow:global_step/sec: 936.408\n",
      "INFO:tensorflow:loss = 134539670000.0, step = 15601 (0.107 sec)\n",
      "INFO:tensorflow:global_step/sec: 940.107\n",
      "INFO:tensorflow:loss = 94757210000.0, step = 15701 (0.106 sec)\n",
      "INFO:tensorflow:global_step/sec: 950.742\n",
      "INFO:tensorflow:loss = 53178122000.0, step = 15801 (0.105 sec)\n",
      "INFO:tensorflow:global_step/sec: 931.854\n",
      "INFO:tensorflow:loss = 71368930000.0, step = 15901 (0.107 sec)\n",
      "INFO:tensorflow:global_step/sec: 955.684\n",
      "INFO:tensorflow:loss = 50752627000.0, step = 16001 (0.105 sec)\n",
      "INFO:tensorflow:global_step/sec: 1000.08\n",
      "INFO:tensorflow:loss = 151398680000.0, step = 16101 (0.099 sec)\n",
      "INFO:tensorflow:global_step/sec: 953.299\n",
      "INFO:tensorflow:loss = 157766200000.0, step = 16201 (0.106 sec)\n",
      "INFO:tensorflow:global_step/sec: 958.35\n",
      "INFO:tensorflow:loss = 61612892000.0, step = 16301 (0.104 sec)\n",
      "INFO:tensorflow:global_step/sec: 934.037\n",
      "INFO:tensorflow:loss = 79598310000.0, step = 16401 (0.107 sec)\n",
      "INFO:tensorflow:global_step/sec: 962.917\n",
      "INFO:tensorflow:loss = 66118975000.0, step = 16501 (0.105 sec)\n",
      "INFO:tensorflow:global_step/sec: 944.404\n",
      "INFO:tensorflow:loss = 77333140000.0, step = 16601 (0.105 sec)\n",
      "INFO:tensorflow:global_step/sec: 960.052\n",
      "INFO:tensorflow:loss = 65964954000.0, step = 16701 (0.104 sec)\n",
      "INFO:tensorflow:global_step/sec: 949.894\n",
      "INFO:tensorflow:loss = 100397360000.0, step = 16801 (0.105 sec)\n",
      "INFO:tensorflow:global_step/sec: 929.403\n",
      "INFO:tensorflow:loss = 184416010000.0, step = 16901 (0.108 sec)\n",
      "INFO:tensorflow:global_step/sec: 949.29\n",
      "INFO:tensorflow:loss = 101411406000.0, step = 17001 (0.105 sec)\n",
      "INFO:tensorflow:global_step/sec: 964.272\n",
      "INFO:tensorflow:loss = 25367079000.0, step = 17101 (0.103 sec)\n",
      "INFO:tensorflow:global_step/sec: 951.104\n",
      "INFO:tensorflow:loss = 118925800000.0, step = 17201 (0.106 sec)\n",
      "INFO:tensorflow:global_step/sec: 946.763\n",
      "INFO:tensorflow:loss = 57864910000.0, step = 17301 (0.106 sec)\n",
      "INFO:tensorflow:global_step/sec: 931.645\n",
      "INFO:tensorflow:loss = 101616165000.0, step = 17401 (0.106 sec)\n",
      "INFO:tensorflow:global_step/sec: 951.739\n",
      "INFO:tensorflow:loss = 141630080000.0, step = 17501 (0.105 sec)\n",
      "INFO:tensorflow:global_step/sec: 996.123\n",
      "INFO:tensorflow:loss = 126023210000.0, step = 17601 (0.101 sec)\n",
      "INFO:tensorflow:global_step/sec: 946.825\n",
      "INFO:tensorflow:loss = 88886256000.0, step = 17701 (0.106 sec)\n",
      "INFO:tensorflow:global_step/sec: 991.758\n",
      "INFO:tensorflow:loss = 82778170000.0, step = 17801 (0.102 sec)\n",
      "INFO:tensorflow:global_step/sec: 907.797\n",
      "INFO:tensorflow:loss = 109112970000.0, step = 17901 (0.108 sec)\n",
      "INFO:tensorflow:global_step/sec: 949.685\n",
      "INFO:tensorflow:loss = 104464250000.0, step = 18001 (0.107 sec)\n",
      "INFO:tensorflow:global_step/sec: 916.589\n",
      "INFO:tensorflow:loss = 59211320000.0, step = 18101 (0.109 sec)\n",
      "INFO:tensorflow:global_step/sec: 936.647\n",
      "INFO:tensorflow:loss = 47389204000.0, step = 18201 (0.105 sec)\n",
      "INFO:tensorflow:global_step/sec: 972.033\n",
      "INFO:tensorflow:loss = 58406543000.0, step = 18301 (0.103 sec)\n",
      "INFO:tensorflow:global_step/sec: 956.324\n",
      "INFO:tensorflow:loss = 133287140000.0, step = 18401 (0.105 sec)\n",
      "INFO:tensorflow:global_step/sec: 963.18\n",
      "INFO:tensorflow:loss = 159456100000.0, step = 18501 (0.103 sec)\n",
      "INFO:tensorflow:global_step/sec: 981.459\n",
      "INFO:tensorflow:loss = 69524955000.0, step = 18601 (0.103 sec)\n",
      "INFO:tensorflow:global_step/sec: 974.307\n",
      "INFO:tensorflow:loss = 145828890000.0, step = 18701 (0.102 sec)\n",
      "INFO:tensorflow:global_step/sec: 932.289\n",
      "INFO:tensorflow:loss = 83863036000.0, step = 18801 (0.107 sec)\n",
      "INFO:tensorflow:global_step/sec: 933.931\n",
      "INFO:tensorflow:loss = 99105420000.0, step = 18901 (0.107 sec)\n",
      "INFO:tensorflow:global_step/sec: 791.415\n",
      "INFO:tensorflow:loss = 74617080000.0, step = 19001 (0.128 sec)\n",
      "INFO:tensorflow:global_step/sec: 842.724\n",
      "INFO:tensorflow:loss = 135123660000.0, step = 19101 (0.119 sec)\n",
      "INFO:tensorflow:global_step/sec: 892.928\n",
      "INFO:tensorflow:loss = 90942340000.0, step = 19201 (0.111 sec)\n",
      "INFO:tensorflow:global_step/sec: 983.583\n",
      "INFO:tensorflow:loss = 97942995000.0, step = 19301 (0.101 sec)\n",
      "INFO:tensorflow:global_step/sec: 976.955\n",
      "INFO:tensorflow:loss = 54455005000.0, step = 19401 (0.102 sec)\n",
      "INFO:tensorflow:global_step/sec: 909.397\n",
      "INFO:tensorflow:loss = 91879326000.0, step = 19501 (0.110 sec)\n",
      "INFO:tensorflow:global_step/sec: 944.652\n",
      "INFO:tensorflow:loss = 93472020000.0, step = 19601 (0.106 sec)\n",
      "INFO:tensorflow:global_step/sec: 943.297\n",
      "INFO:tensorflow:loss = 157948050000.0, step = 19701 (0.107 sec)\n",
      "INFO:tensorflow:global_step/sec: 934.422\n",
      "INFO:tensorflow:loss = 69776050000.0, step = 19801 (0.107 sec)\n",
      "INFO:tensorflow:global_step/sec: 947.679\n",
      "INFO:tensorflow:loss = 115918500000.0, step = 19901 (0.105 sec)\n",
      "INFO:tensorflow:Saving checkpoints for 20000 into /var/folders/lt/qq0brrs93z944jjf5v_r23kh0000gn/T/tmp0dh7nu4e/model.ckpt.\n",
      "INFO:tensorflow:Loss for final step: 177021300000.0.\n"
     ]
    },
    {
     "data": {
      "text/plain": [
       "<tensorflow.python.estimator.canned.dnn.DNNRegressor at 0x1a30b03048>"
      ]
     },
     "execution_count": 17,
     "metadata": {},
     "output_type": "execute_result"
    }
   ],
   "source": [
    "model.train(input_fn=input_func, steps=20000)"
   ]
  },
  {
   "cell_type": "code",
   "execution_count": 18,
   "metadata": {},
   "outputs": [],
   "source": [
    "predict_input_func = tf.estimator.inputs.pandas_input_fn(x=x_test, batch_size=10, num_epochs=1, shuffle=False)"
   ]
  },
  {
   "cell_type": "code",
   "execution_count": 19,
   "metadata": {},
   "outputs": [],
   "source": [
    "pred_gen = model.predict(predict_input_func)"
   ]
  },
  {
   "cell_type": "code",
   "execution_count": 20,
   "metadata": {},
   "outputs": [
    {
     "name": "stdout",
     "output_type": "stream",
     "text": [
      "INFO:tensorflow:Calling model_fn.\n",
      "INFO:tensorflow:Done calling model_fn.\n",
      "INFO:tensorflow:Graph was finalized.\n",
      "INFO:tensorflow:Restoring parameters from /var/folders/lt/qq0brrs93z944jjf5v_r23kh0000gn/T/tmp0dh7nu4e/model.ckpt-20000\n",
      "INFO:tensorflow:Running local_init_op.\n",
      "INFO:tensorflow:Done running local_init_op.\n"
     ]
    }
   ],
   "source": [
    "predictions = list(pred_gen)"
   ]
  },
  {
   "cell_type": "code",
   "execution_count": 21,
   "metadata": {},
   "outputs": [],
   "source": [
    "final_preds = []\n",
    "for pred in predictions:\n",
    "    final_preds.append(pred['predictions'])"
   ]
  },
  {
   "cell_type": "code",
   "execution_count": 22,
   "metadata": {},
   "outputs": [],
   "source": [
    "from sklearn.metrics import mean_squared_error, median_absolute_error"
   ]
  },
  {
   "cell_type": "code",
   "execution_count": 23,
   "metadata": {},
   "outputs": [
    {
     "data": {
      "text/plain": [
       "67266.65625"
      ]
     },
     "execution_count": 23,
     "metadata": {},
     "output_type": "execute_result"
    }
   ],
   "source": [
    "median_absolute_error(y_test, final_preds)"
   ]
  }
 ],
 "metadata": {
  "kernelspec": {
   "display_name": "Python 3",
   "language": "python",
   "name": "python3"
  },
  "language_info": {
   "codemirror_mode": {
    "name": "ipython",
    "version": 3
   },
   "file_extension": ".py",
   "mimetype": "text/x-python",
   "name": "python",
   "nbconvert_exporter": "python",
   "pygments_lexer": "ipython3",
   "version": "3.7.1"
  }
 },
 "nbformat": 4,
 "nbformat_minor": 2
}
