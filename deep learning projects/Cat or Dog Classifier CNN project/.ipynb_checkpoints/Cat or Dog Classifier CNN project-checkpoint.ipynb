{
 "cells": [
  {
   "cell_type": "code",
   "execution_count": 18,
   "metadata": {},
   "outputs": [],
   "source": [
    "import keras"
   ]
  },
  {
   "cell_type": "code",
   "execution_count": 19,
   "metadata": {},
   "outputs": [],
   "source": [
    "from keras.models import Sequential\n",
    "from keras.layers import Convolution2D, MaxPooling2D, Flatten, Dense, Dropout"
   ]
  },
  {
   "cell_type": "code",
   "execution_count": 20,
   "metadata": {},
   "outputs": [],
   "source": [
    "# initialize the CNN\n",
    "classifier = Sequential()"
   ]
  },
  {
   "cell_type": "code",
   "execution_count": 21,
   "metadata": {},
   "outputs": [
    {
     "name": "stderr",
     "output_type": "stream",
     "text": [
      "/Users/sudeng/anaconda3/lib/python3.7/site-packages/ipykernel_launcher.py:2: UserWarning: Update your `Conv2D` call to the Keras 2 API: `Conv2D(32, (3, 3), input_shape=(64, 64, 3..., activation=\"relu\")`\n",
      "  \n"
     ]
    }
   ],
   "source": [
    "# step-1 convolution layer\n",
    "classifier.add(Convolution2D(32, 3, 3, input_shape=(64, 64, 3), activation='relu'))"
   ]
  },
  {
   "cell_type": "code",
   "execution_count": 22,
   "metadata": {},
   "outputs": [],
   "source": [
    "# step-2 pooling layer\n",
    "classifier.add(MaxPooling2D(pool_size=(2, 2)))"
   ]
  },
  {
   "cell_type": "code",
   "execution_count": 23,
   "metadata": {},
   "outputs": [
    {
     "name": "stderr",
     "output_type": "stream",
     "text": [
      "/Users/sudeng/anaconda3/lib/python3.7/site-packages/ipykernel_launcher.py:1: UserWarning: Update your `Conv2D` call to the Keras 2 API: `Conv2D(32, (3, 3), activation=\"relu\")`\n",
      "  \"\"\"Entry point for launching an IPython kernel.\n",
      "/Users/sudeng/anaconda3/lib/python3.7/site-packages/ipykernel_launcher.py:3: UserWarning: Update your `Conv2D` call to the Keras 2 API: `Conv2D(32, (3, 3), activation=\"relu\")`\n",
      "  This is separate from the ipykernel package so we can avoid doing imports until\n"
     ]
    }
   ],
   "source": [
    "classifier.add(Convolution2D(32, 3, 3, activation='relu'))\n",
    "classifier.add(MaxPooling2D(pool_size=(2, 2)))\n",
    "classifier.add(Convolution2D(32, 3, 3, activation='relu'))\n",
    "classifier.add(MaxPooling2D(pool_size=(2, 2)))"
   ]
  },
  {
   "cell_type": "code",
   "execution_count": 24,
   "metadata": {},
   "outputs": [],
   "source": [
    "# step-3 flattening\n",
    "classifier.add(Flatten())"
   ]
  },
  {
   "cell_type": "code",
   "execution_count": 25,
   "metadata": {},
   "outputs": [
    {
     "name": "stderr",
     "output_type": "stream",
     "text": [
      "/Users/sudeng/anaconda3/lib/python3.7/site-packages/ipykernel_launcher.py:2: UserWarning: Update your `Dense` call to the Keras 2 API: `Dense(activation=\"relu\", units=128)`\n",
      "  \n",
      "/Users/sudeng/anaconda3/lib/python3.7/site-packages/ipykernel_launcher.py:3: UserWarning: Update your `Dropout` call to the Keras 2 API: `Dropout(rate=0.3)`\n",
      "  This is separate from the ipykernel package so we can avoid doing imports until\n",
      "/Users/sudeng/anaconda3/lib/python3.7/site-packages/ipykernel_launcher.py:4: UserWarning: Update your `Dense` call to the Keras 2 API: `Dense(activation=\"relu\", units=128)`\n",
      "  after removing the cwd from sys.path.\n",
      "/Users/sudeng/anaconda3/lib/python3.7/site-packages/ipykernel_launcher.py:5: UserWarning: Update your `Dropout` call to the Keras 2 API: `Dropout(rate=0.3)`\n",
      "  \"\"\"\n",
      "/Users/sudeng/anaconda3/lib/python3.7/site-packages/ipykernel_launcher.py:6: UserWarning: Update your `Dense` call to the Keras 2 API: `Dense(activation=\"sigmoid\", units=1)`\n",
      "  \n"
     ]
    }
   ],
   "source": [
    "# step-4 full connection layer\n",
    "classifier.add(Dense(output_dim=128, activation='relu'))\n",
    "classifier.add(Dropout(p=0.3))\n",
    "classifier.add(Dense(output_dim=128, activation='relu'))\n",
    "classifier.add(Dropout(p=0.3))\n",
    "classifier.add(Dense(output_dim=1, activation='sigmoid'))"
   ]
  },
  {
   "cell_type": "code",
   "execution_count": 26,
   "metadata": {},
   "outputs": [],
   "source": [
    "# step-5 compiling the CNN\n",
    "classifier.compile(optimizer='adam', loss='binary_crossentropy', metrics=['accuracy'])"
   ]
  },
  {
   "cell_type": "code",
   "execution_count": 27,
   "metadata": {},
   "outputs": [],
   "source": [
    "from keras.preprocessing.image import ImageDataGenerator"
   ]
  },
  {
   "cell_type": "code",
   "execution_count": 28,
   "metadata": {},
   "outputs": [],
   "source": [
    "train_datagen = ImageDataGenerator(rescale = 1./255, shear_range=0.2, zoom_range=0.2, horizontal_flip=True)"
   ]
  },
  {
   "cell_type": "code",
   "execution_count": 29,
   "metadata": {},
   "outputs": [],
   "source": [
    "test_datagen = ImageDataGenerator(rescale = 1./255)"
   ]
  },
  {
   "cell_type": "code",
   "execution_count": 30,
   "metadata": {},
   "outputs": [
    {
     "name": "stdout",
     "output_type": "stream",
     "text": [
      "Found 8000 images belonging to 2 classes.\n"
     ]
    }
   ],
   "source": [
    "training_set = train_datagen.flow_from_directory('training_set', target_size=(64, 64), batch_size=32, class_mode='binary')"
   ]
  },
  {
   "cell_type": "code",
   "execution_count": 31,
   "metadata": {},
   "outputs": [
    {
     "name": "stdout",
     "output_type": "stream",
     "text": [
      "Found 2000 images belonging to 2 classes.\n"
     ]
    }
   ],
   "source": [
    "test_set = test_datagen.flow_from_directory('test_set', target_size=(64, 64), batch_size=32, class_mode='binary')"
   ]
  },
  {
   "cell_type": "code",
   "execution_count": 32,
   "metadata": {},
   "outputs": [
    {
     "name": "stderr",
     "output_type": "stream",
     "text": [
      "/Users/sudeng/anaconda3/lib/python3.7/site-packages/ipykernel_launcher.py:2: UserWarning: The semantics of the Keras 2 argument `steps_per_epoch` is not the same as the Keras 1 argument `samples_per_epoch`. `steps_per_epoch` is the number of batches to draw from the generator at each epoch. Basically steps_per_epoch = samples_per_epoch/batch_size. Similarly `nb_val_samples`->`validation_steps` and `val_samples`->`steps` arguments have changed. Update your method calls accordingly.\n",
      "  \n",
      "/Users/sudeng/anaconda3/lib/python3.7/site-packages/ipykernel_launcher.py:2: UserWarning: Update your `fit_generator` call to the Keras 2 API: `fit_generator(<keras_pre..., validation_data=<keras_pre..., steps_per_epoch=250, epochs=25, validation_steps=2000)`\n",
      "  \n"
     ]
    },
    {
     "name": "stdout",
     "output_type": "stream",
     "text": [
      "Epoch 1/25\n",
      "250/250 [==============================] - 172s 687ms/step - loss: 0.6883 - acc: 0.5366 - val_loss: 0.6549 - val_acc: 0.6147\n",
      "Epoch 2/25\n",
      "250/250 [==============================] - 169s 675ms/step - loss: 0.6319 - acc: 0.6515 - val_loss: 0.6381 - val_acc: 0.6249\n",
      "Epoch 3/25\n",
      "250/250 [==============================] - 165s 659ms/step - loss: 0.5961 - acc: 0.6803 - val_loss: 0.5628 - val_acc: 0.7222\n",
      "Epoch 4/25\n",
      "250/250 [==============================] - 157s 629ms/step - loss: 0.5532 - acc: 0.7220 - val_loss: 0.5624 - val_acc: 0.7234\n",
      "Epoch 5/25\n",
      "250/250 [==============================] - 168s 672ms/step - loss: 0.5217 - acc: 0.7401 - val_loss: 0.5511 - val_acc: 0.7194\n",
      "Epoch 6/25\n",
      "250/250 [==============================] - 169s 678ms/step - loss: 0.4940 - acc: 0.7610 - val_loss: 0.4623 - val_acc: 0.7818\n",
      "Epoch 7/25\n",
      "250/250 [==============================] - 167s 668ms/step - loss: 0.4730 - acc: 0.7774 - val_loss: 0.4575 - val_acc: 0.7793\n",
      "Epoch 8/25\n",
      "250/250 [==============================] - 161s 646ms/step - loss: 0.4640 - acc: 0.7804 - val_loss: 0.4528 - val_acc: 0.7826\n",
      "Epoch 9/25\n",
      "250/250 [==============================] - 171s 686ms/step - loss: 0.4443 - acc: 0.7918 - val_loss: 0.4297 - val_acc: 0.7930\n",
      "Epoch 10/25\n",
      "250/250 [==============================] - 168s 671ms/step - loss: 0.4229 - acc: 0.8054 - val_loss: 0.4481 - val_acc: 0.7959\n",
      "Epoch 11/25\n",
      "250/250 [==============================] - 170s 681ms/step - loss: 0.4158 - acc: 0.8103 - val_loss: 0.4101 - val_acc: 0.8055\n",
      "Epoch 12/25\n",
      "250/250 [==============================] - 168s 673ms/step - loss: 0.3976 - acc: 0.8229 - val_loss: 0.4313 - val_acc: 0.8074\n",
      "Epoch 13/25\n",
      "250/250 [==============================] - 168s 672ms/step - loss: 0.3944 - acc: 0.8220 - val_loss: 0.4118 - val_acc: 0.8096\n",
      "Epoch 14/25\n",
      "250/250 [==============================] - 157s 627ms/step - loss: 0.3838 - acc: 0.8272 - val_loss: 0.3908 - val_acc: 0.8233\n",
      "Epoch 15/25\n",
      "250/250 [==============================] - 171s 686ms/step - loss: 0.3704 - acc: 0.8345 - val_loss: 0.3921 - val_acc: 0.8228\n",
      "Epoch 16/25\n",
      "250/250 [==============================] - 165s 660ms/step - loss: 0.3627 - acc: 0.8392 - val_loss: 0.3880 - val_acc: 0.8256\n",
      "Epoch 17/25\n",
      "250/250 [==============================] - 166s 665ms/step - loss: 0.3598 - acc: 0.8353 - val_loss: 0.3766 - val_acc: 0.8346\n",
      "Epoch 18/25\n",
      "250/250 [==============================] - 162s 649ms/step - loss: 0.3554 - acc: 0.8406 - val_loss: 0.3608 - val_acc: 0.8410\n",
      "Epoch 19/25\n",
      "250/250 [==============================] - 159s 637ms/step - loss: 0.3384 - acc: 0.8516 - val_loss: 0.3714 - val_acc: 0.8330\n",
      "Epoch 20/25\n",
      "250/250 [==============================] - 157s 629ms/step - loss: 0.3392 - acc: 0.8533 - val_loss: 0.3728 - val_acc: 0.8415\n",
      "Epoch 21/25\n",
      "250/250 [==============================] - 166s 663ms/step - loss: 0.3306 - acc: 0.8543 - val_loss: 0.3636 - val_acc: 0.8413\n",
      "Epoch 22/25\n",
      "250/250 [==============================] - 167s 667ms/step - loss: 0.3196 - acc: 0.8621 - val_loss: 0.3648 - val_acc: 0.8538\n",
      "Epoch 23/25\n",
      "250/250 [==============================] - 158s 634ms/step - loss: 0.3177 - acc: 0.8650 - val_loss: 0.3938 - val_acc: 0.8268\n",
      "Epoch 24/25\n",
      "250/250 [==============================] - 157s 628ms/step - loss: 0.3089 - acc: 0.8675 - val_loss: 0.3687 - val_acc: 0.8385\n",
      "Epoch 25/25\n",
      "250/250 [==============================] - 166s 665ms/step - loss: 0.3132 - acc: 0.8658 - val_loss: 0.3593 - val_acc: 0.8505\n"
     ]
    },
    {
     "data": {
      "text/plain": [
       "<keras.callbacks.History at 0x12532e320>"
      ]
     },
     "execution_count": 32,
     "metadata": {},
     "output_type": "execute_result"
    }
   ],
   "source": [
    "classifier.fit_generator(training_set, samples_per_epoch=8000, nb_epoch=25, validation_data=test_set, \n",
    "                         nb_val_samples=2000)                   "
   ]
  },
  {
   "cell_type": "markdown",
   "metadata": {},
   "source": [
    "accuracy on test set is around 85%"
   ]
  },
  {
   "cell_type": "code",
   "execution_count": 33,
   "metadata": {},
   "outputs": [],
   "source": [
    "import numpy as np"
   ]
  },
  {
   "cell_type": "code",
   "execution_count": 34,
   "metadata": {},
   "outputs": [],
   "source": [
    "from keras.preprocessing import image"
   ]
  },
  {
   "cell_type": "code",
   "execution_count": 35,
   "metadata": {},
   "outputs": [],
   "source": [
    "test_image = image.load_img('single_prediction/cat_or_dog_2.jpg', target_size=(64, 64))"
   ]
  },
  {
   "cell_type": "code",
   "execution_count": 36,
   "metadata": {},
   "outputs": [],
   "source": [
    "test_image = image.img_to_array(test_image)"
   ]
  },
  {
   "cell_type": "code",
   "execution_count": 37,
   "metadata": {},
   "outputs": [],
   "source": [
    "test_image = np.expand_dims(test_image, axis=0)"
   ]
  },
  {
   "cell_type": "code",
   "execution_count": 38,
   "metadata": {},
   "outputs": [],
   "source": [
    "result = classifier.predict(test_image)"
   ]
  },
  {
   "cell_type": "code",
   "execution_count": 39,
   "metadata": {},
   "outputs": [
    {
     "data": {
      "text/plain": [
       "{'cats': 0, 'dogs': 1}"
      ]
     },
     "execution_count": 39,
     "metadata": {},
     "output_type": "execute_result"
    }
   ],
   "source": [
    "training_set.class_indices"
   ]
  },
  {
   "cell_type": "code",
   "execution_count": 40,
   "metadata": {},
   "outputs": [],
   "source": [
    "if result[0][0] == 1:\n",
    "    prediction = 'Dog'\n",
    "elif result[0][0] == 0:\n",
    "    prediction = 'Cat'"
   ]
  },
  {
   "cell_type": "code",
   "execution_count": 41,
   "metadata": {},
   "outputs": [
    {
     "data": {
      "text/plain": [
       "'Cat'"
      ]
     },
     "execution_count": 41,
     "metadata": {},
     "output_type": "execute_result"
    }
   ],
   "source": [
    "prediction"
   ]
  },
  {
   "cell_type": "code",
   "execution_count": null,
   "metadata": {},
   "outputs": [],
   "source": []
  }
 ],
 "metadata": {
  "kernelspec": {
   "display_name": "Python 3",
   "language": "python",
   "name": "python3"
  },
  "language_info": {
   "codemirror_mode": {
    "name": "ipython",
    "version": 3
   },
   "file_extension": ".py",
   "mimetype": "text/x-python",
   "name": "python",
   "nbconvert_exporter": "python",
   "pygments_lexer": "ipython3",
   "version": "3.7.1"
  }
 },
 "nbformat": 4,
 "nbformat_minor": 2
}
